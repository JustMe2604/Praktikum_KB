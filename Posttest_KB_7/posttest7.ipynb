{
  "nbformat": 4,
  "nbformat_minor": 0,
  "metadata": {
    "colab": {
      "provenance": []
    },
    "kernelspec": {
      "name": "python3",
      "display_name": "Python 3"
    },
    "language_info": {
      "name": "python"
    }
  },
  "cells": [
    {
      "cell_type": "markdown",
      "source": [
        "# Taufiq July Kurniawan_Posttest 4 dan Posttest 7\n",
        "# 2009106138"
      ],
      "metadata": {
        "id": "NXdoktMtUiLx"
      }
    },
    {
      "cell_type": "markdown",
      "source": [
        "##### Import Library"
      ],
      "metadata": {
        "id": "hrhaTNZnUpZ7"
      }
    },
    {
      "cell_type": "code",
      "source": [
        "import tensorflow as tf"
      ],
      "metadata": {
        "id": "ly9mXleGCz4N"
      },
      "execution_count": 141,
      "outputs": []
    },
    {
      "cell_type": "markdown",
      "source": [
        "##### Tensor Nilai Random"
      ],
      "metadata": {
        "id": "Uv0sxChnUwBx"
      }
    },
    {
      "cell_type": "code",
      "source": [
        "random_tensor = tf.random.normal([5,5])\n",
        "random_tensor.numpy()"
      ],
      "metadata": {
        "colab": {
          "base_uri": "https://localhost:8080/"
        },
        "id": "xv41t3o0C1SX",
        "outputId": "a2ab15cb-6998-46d0-b3b2-4f854f582a66"
      },
      "execution_count": 142,
      "outputs": [
        {
          "output_type": "execute_result",
          "data": {
            "text/plain": [
              "array([[-1.9871184 ,  2.331272  ,  0.1063799 , -0.87107515,  0.7004276 ],\n",
              "       [ 0.9274295 , -0.2597045 ,  1.779798  , -0.7734136 , -0.82087314],\n",
              "       [-0.1354295 ,  0.12380375,  0.37303653,  1.4451019 , -0.5829035 ],\n",
              "       [ 1.7886226 , -0.5669783 ,  0.37228477,  1.0592332 ,  0.21335576],\n",
              "       [ 0.34702832,  0.05337666, -1.4243888 ,  1.0036482 ,  0.8454301 ]],\n",
              "      dtype=float32)"
            ]
          },
          "metadata": {},
          "execution_count": 142
        }
      ]
    },
    {
      "cell_type": "markdown",
      "source": [
        "##### Tensor Bilangan Prima"
      ],
      "metadata": {
        "id": "Y2I-gQrsU1y6"
      }
    },
    {
      "cell_type": "code",
      "source": [
        "bilangan = [[1,2,3,5,7], [11,13,17,19,23], [29, 31, 37, 41, 43],[47, 53, 59, 61, 67],[71, 73, 79, 83, 89]]\n",
        "prime_tensor = tf.convert_to_tensor(bilangan, dtype= tf.float32)\n",
        "prime_tensor"
      ],
      "metadata": {
        "colab": {
          "base_uri": "https://localhost:8080/"
        },
        "id": "lxLi6qNIIfOv",
        "outputId": "ef765cc8-2d7c-4fc6-be0e-37a967d5d742"
      },
      "execution_count": 147,
      "outputs": [
        {
          "output_type": "execute_result",
          "data": {
            "text/plain": [
              "<tf.Tensor: shape=(5, 5), dtype=float32, numpy=\n",
              "array([[ 1.,  2.,  3.,  5.,  7.],\n",
              "       [11., 13., 17., 19., 23.],\n",
              "       [29., 31., 37., 41., 43.],\n",
              "       [47., 53., 59., 61., 67.],\n",
              "       [71., 73., 79., 83., 89.]], dtype=float32)>"
            ]
          },
          "metadata": {},
          "execution_count": 147
        }
      ]
    },
    {
      "cell_type": "markdown",
      "source": [
        "##### Dimensi Nilai Random dan Bilangan Prima"
      ],
      "metadata": {
        "id": "d310uPgkU-vt"
      }
    },
    {
      "cell_type": "code",
      "source": [
        "dimensi = tf.constant(random_tensor)\n",
        "dimensi2 =tf.constant(prime_tensor)\n",
        "print(dimensi.shape, dimensi2.shape)\n",
        "print(dimensi.get_shape(), dimensi2.get_shape())\n",
        "print(tf.shape(dimensi), tf.shape(dimensi2))"
      ],
      "metadata": {
        "colab": {
          "base_uri": "https://localhost:8080/"
        },
        "id": "1Fc5pOxcJMI7",
        "outputId": "8e68a25b-6c99-487b-8ac7-cf3d3e1ee96a"
      },
      "execution_count": 148,
      "outputs": [
        {
          "output_type": "stream",
          "name": "stdout",
          "text": [
            "(5, 5) (5, 5)\n",
            "(5, 5) (5, 5)\n",
            "tf.Tensor([5 5], shape=(2,), dtype=int32) tf.Tensor([5 5], shape=(2,), dtype=int32)\n"
          ]
        }
      ]
    },
    {
      "cell_type": "markdown",
      "source": [
        "##### Perhitungan Aritmatika Nilai Random dan Bilangan Prima"
      ],
      "metadata": {
        "id": "QDyRbRo0VEoL"
      }
    },
    {
      "cell_type": "code",
      "source": [
        "penjumlahan = tf.add(random_tensor, prime_tensor)\n",
        "pengurangan = tf.subtract(random_tensor, prime_tensor)\n",
        "perkalian = tf.multiply(random_tensor, prime_tensor)\n",
        "pembagian = tf.divide(random_tensor, prime_tensor)\n",
        "logaritma = tf.math.log(random_tensor, prime_tensor)\n",
        "pangkat = tf.pow(random_tensor, prime_tensor)\n",
        "\n",
        "print(\"Hasil dari Penjumlahan : \", penjumlahan, \"\\n\")\n",
        "print(\"Hasil dari Pengurangan : \", pengurangan, \"\\n\")\n",
        "print(\"Hasil dari Perkalian : \", perkalian, \"\\n\")\n",
        "print(\"Hasil dari Pembagian : \", pembagian, \"\\n\")\n",
        "print(\"Hasil dari Logaritma : \", logaritma, \"\\n\")\n",
        "print(\"Hasil dari Pangkat : \", pangkat, \"\\n\")"
      ],
      "metadata": {
        "colab": {
          "base_uri": "https://localhost:8080/"
        },
        "id": "g4gdzBW_O4Q8",
        "outputId": "2a3c076b-3be8-4462-f63b-f2d05d42969f"
      },
      "execution_count": 149,
      "outputs": [
        {
          "output_type": "stream",
          "name": "stdout",
          "text": [
            "Hasil dari Penjumlahan :  tf.Tensor(\n",
            "[[-0.98711836  4.331272    3.10638     4.128925    7.7004275 ]\n",
            " [11.927429   12.740295   18.779799   18.226587   22.179127  ]\n",
            " [28.86457    31.123804   37.373035   42.445103   42.417095  ]\n",
            " [48.788624   52.43302    59.372284   62.059235   67.213356  ]\n",
            " [71.34703    73.053375   77.575615   84.00365    89.84543   ]], shape=(5, 5), dtype=float32) \n",
            "\n",
            "Hasil dari Pengurangan :  tf.Tensor(\n",
            "[[ -2.9871182   0.3312719  -2.89362    -5.871075   -6.2995725]\n",
            " [-10.072571  -13.259705  -15.2202015 -19.773413  -23.820873 ]\n",
            " [-29.13543   -30.876196  -36.626965  -39.554897  -43.582905 ]\n",
            " [-45.211376  -53.56698   -58.627716  -59.940765  -66.786644 ]\n",
            " [-70.65297   -72.946625  -80.424385  -81.99635   -88.15457  ]], shape=(5, 5), dtype=float32) \n",
            "\n",
            "Hasil dari Perkalian :  tf.Tensor(\n",
            "[[  -1.9871184    4.662544     0.3191397   -4.355376     4.902993 ]\n",
            " [  10.201724    -3.3761585   30.256567   -14.694859   -18.880083 ]\n",
            " [  -3.9274554    3.8379161   13.802352    59.249176   -25.06485  ]\n",
            " [  84.06526    -30.049849    21.964802    64.61323     14.294836 ]\n",
            " [  24.63901      3.896496  -112.52671     83.302795    75.24328  ]], shape=(5, 5), dtype=float32) \n",
            "\n",
            "Hasil dari Pembagian :  tf.Tensor(\n",
            "[[-1.9871184e+00  1.1656359e+00  3.5459965e-02 -1.7421503e-01\n",
            "   1.0006108e-01]\n",
            " [ 8.4311776e-02 -1.9977270e-02  1.0469400e-01 -4.0705979e-02\n",
            "  -3.5690136e-02]\n",
            " [-4.6699829e-03  3.9936695e-03  1.0082069e-02  3.5246387e-02\n",
            "  -1.3555896e-02]\n",
            " [ 3.8055800e-02 -1.0697703e-02  6.3099111e-03  1.7364478e-02\n",
            "   3.1844145e-03]\n",
            " [ 4.8877229e-03  7.3118712e-04 -1.8030237e-02  1.2092146e-02\n",
            "   9.4992146e-03]], shape=(5, 5), dtype=float32) \n",
            "\n",
            "Hasil dari Logaritma :  tf.Tensor(\n",
            "[[        nan  0.84641397 -2.2407386          nan -0.35606426]\n",
            " [-0.0753385          nan  0.5764999          nan         nan]\n",
            " [        nan -2.0890577  -0.98607886  0.36817983         nan]\n",
            " [ 0.5814458          nan -0.98809624  0.05754524 -1.5447942 ]\n",
            " [-1.0583489  -2.9303818          nan  0.00364152 -0.16790982]], shape=(5, 5), dtype=float32) \n",
            "\n",
            "Hasil dari Pangkat :  tf.Tensor(\n",
            "[[-1.9871184e+00  5.4348288e+00  1.2038675e-03 -5.0150830e-01\n",
            "   8.2707085e-02]\n",
            " [ 4.3660626e-01 -2.4447429e-08  1.8042730e+04 -7.5827069e-03\n",
            "  -1.0674537e-02]\n",
            " [-6.6021458e-26  7.4945879e-29  1.4282380e-16  3.5961420e+06\n",
            "  -8.3302233e-11]\n",
            " [ 7.3854976e+11 -8.6900085e-14  4.8044196e-26  3.3456951e+01\n",
            "   0.0000000e+00]\n",
            " [ 2.3222486e-33  0.0000000e+00 -1.3697921e+12  1.3528947e+00\n",
            "   3.2353014e-07]], shape=(5, 5), dtype=float32) \n",
            "\n"
          ]
        }
      ]
    },
    {
      "cell_type": "markdown",
      "source": [
        "##### Nilai Max dan Min"
      ],
      "metadata": {
        "id": "fPjQVEs4VLbr"
      }
    },
    {
      "cell_type": "markdown",
      "source": [
        "##### Nilai Random"
      ],
      "metadata": {
        "id": "lESQr8I0VTlo"
      }
    },
    {
      "cell_type": "code",
      "source": [
        "print(\"input tensor:\",random_tensor.numpy())\n",
        "maximum = tf.argmax(random_tensor, axis=0)\n",
        "minimum = tf.argmin(random_tensor, axis=1)\n",
        "print(\"Nilai Maksimum :\",maximum.numpy())\n",
        "print(\"Nilai Minimum :\",minimum.numpy())"
      ],
      "metadata": {
        "colab": {
          "base_uri": "https://localhost:8080/"
        },
        "id": "QhX3OHgCQ9f7",
        "outputId": "6c987a81-1d2e-4e1e-b66a-02d5cd85f7c8"
      },
      "execution_count": 150,
      "outputs": [
        {
          "output_type": "stream",
          "name": "stdout",
          "text": [
            "input tensor: [[-1.9871184   2.331272    0.1063799  -0.87107515  0.7004276 ]\n",
            " [ 0.9274295  -0.2597045   1.779798   -0.7734136  -0.82087314]\n",
            " [-0.1354295   0.12380375  0.37303653  1.4451019  -0.5829035 ]\n",
            " [ 1.7886226  -0.5669783   0.37228477  1.0592332   0.21335576]\n",
            " [ 0.34702832  0.05337666 -1.4243888   1.0036482   0.8454301 ]]\n",
            "Nilai Maksimum : [3 0 1 2 4]\n",
            "Nilai Minimum : [0 4 4 1 2]\n"
          ]
        }
      ]
    },
    {
      "cell_type": "markdown",
      "source": [
        "##### Nilai bilangan prima"
      ],
      "metadata": {
        "id": "CLENw5zWVRhT"
      }
    },
    {
      "cell_type": "code",
      "source": [
        "print(\"input tensor:\",prime_tensor.numpy())\n",
        "max = tf.argmax(prime_tensor, axis=0)\n",
        "min = tf.argmin(prime_tensor, axis=1)\n",
        "print(\"Nilai Maksimum :\",max.numpy())\n",
        "print(\"Nilai Minimum :\",min.numpy())"
      ],
      "metadata": {
        "colab": {
          "base_uri": "https://localhost:8080/"
        },
        "id": "vTkMqUQJRo4f",
        "outputId": "ce4cc547-a567-4797-b81d-3a61c0976cca"
      },
      "execution_count": 151,
      "outputs": [
        {
          "output_type": "stream",
          "name": "stdout",
          "text": [
            "input tensor: [[ 1.  2.  3.  5.  7.]\n",
            " [11. 13. 17. 19. 23.]\n",
            " [29. 31. 37. 41. 43.]\n",
            " [47. 53. 59. 61. 67.]\n",
            " [71. 73. 79. 83. 89.]]\n",
            "Nilai Maksimum : [4 4 4 4 4]\n",
            "Nilai Minimum : [0 0 0 0 0]\n"
          ]
        }
      ]
    },
    {
      "cell_type": "markdown",
      "source": [
        "##### Penggabungan Variabel random dan prime"
      ],
      "metadata": {
        "id": "bqtZ7cD3Vf0p"
      }
    },
    {
      "cell_type": "code",
      "source": [
        "penggabungan = tf.stack([random_tensor, prime_tensor],axis=0)\n",
        "print(\"Sebelum digabung : \",random_tensor.shape, prime_tensor.shape)\n",
        "print(\"Setelah digabung :\",penggabungan.shape)"
      ],
      "metadata": {
        "colab": {
          "base_uri": "https://localhost:8080/"
        },
        "id": "wzICAbUKSQKe",
        "outputId": "1cee51b9-c6cf-4da8-b2c1-ce399b4d9f36"
      },
      "execution_count": 152,
      "outputs": [
        {
          "output_type": "stream",
          "name": "stdout",
          "text": [
            "Sebelum digabung :  (5, 5) (5, 5)\n",
            "Setelah digabung : (2, 5, 5)\n"
          ]
        }
      ]
    },
    {
      "cell_type": "markdown",
      "source": [
        "##### Sorting variabel Random"
      ],
      "metadata": {
        "id": "v_r4fz1HVkp8"
      }
    },
    {
      "cell_type": "code",
      "source": [
        "print(\"input tensor:\",random_tensor.numpy())\n",
        "random_sort = tf.sort(random_tensor, direction=\"DESCENDING\")\n",
        "print(\"Sorting Data Random Tensor:\",random_sort.numpy())"
      ],
      "metadata": {
        "colab": {
          "base_uri": "https://localhost:8080/"
        },
        "id": "UZuRWA-UTXNF",
        "outputId": "08d98ee5-90c7-46bf-f04c-3ca387977d3e"
      },
      "execution_count": 153,
      "outputs": [
        {
          "output_type": "stream",
          "name": "stdout",
          "text": [
            "input tensor: [[-1.9871184   2.331272    0.1063799  -0.87107515  0.7004276 ]\n",
            " [ 0.9274295  -0.2597045   1.779798   -0.7734136  -0.82087314]\n",
            " [-0.1354295   0.12380375  0.37303653  1.4451019  -0.5829035 ]\n",
            " [ 1.7886226  -0.5669783   0.37228477  1.0592332   0.21335576]\n",
            " [ 0.34702832  0.05337666 -1.4243888   1.0036482   0.8454301 ]]\n",
            "Sorting Data Random Tensor: [[ 2.331272    0.7004276   0.1063799  -0.87107515 -1.9871184 ]\n",
            " [ 1.779798    0.9274295  -0.2597045  -0.7734136  -0.82087314]\n",
            " [ 1.4451019   0.37303653  0.12380375 -0.1354295  -0.5829035 ]\n",
            " [ 1.7886226   1.0592332   0.37228477  0.21335576 -0.5669783 ]\n",
            " [ 1.0036482   0.8454301   0.34702832  0.05337666 -1.4243888 ]]\n"
          ]
        }
      ]
    },
    {
      "cell_type": "markdown",
      "source": [
        "##### sorting variabel Prime"
      ],
      "metadata": {
        "id": "k-DfLPd-VoTC"
      }
    },
    {
      "cell_type": "code",
      "source": [
        "print(\"input tensor:\",prime_tensor.numpy())\n",
        "prime_sort = tf.sort(prime_tensor, direction=\"DESCENDING\")\n",
        "print(\"Sorting Data Prime Tensor :\",prime_sort.numpy())"
      ],
      "metadata": {
        "colab": {
          "base_uri": "https://localhost:8080/"
        },
        "id": "bGLPjAqTUC8s",
        "outputId": "be997411-eb11-4214-8e12-1bee8931879e"
      },
      "execution_count": 154,
      "outputs": [
        {
          "output_type": "stream",
          "name": "stdout",
          "text": [
            "input tensor: [[ 1.  2.  3.  5.  7.]\n",
            " [11. 13. 17. 19. 23.]\n",
            " [29. 31. 37. 41. 43.]\n",
            " [47. 53. 59. 61. 67.]\n",
            " [71. 73. 79. 83. 89.]]\n",
            "Sorting Data Prime Tensor : [[ 7.  5.  3.  2.  1.]\n",
            " [23. 19. 17. 13. 11.]\n",
            " [43. 41. 37. 31. 29.]\n",
            " [67. 61. 59. 53. 47.]\n",
            " [89. 83. 79. 73. 71.]]\n"
          ]
        }
      ]
    }
  ]
}