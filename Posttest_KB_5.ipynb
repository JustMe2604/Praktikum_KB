{
  "cells": [
    {
      "cell_type": "markdown",
      "id": "4-R-JCai2EqN",
      "metadata": {
        "id": "4-R-JCai2EqN"
      },
      "source": [
        "# Taufiq July Kurniawan_Posttest 4 dan Posttest 5\n",
        "# 2009106138"
      ]
    },
    {
      "cell_type": "markdown",
      "id": "eaRCfJPb2P_B",
      "metadata": {
        "id": "eaRCfJPb2P_B"
      },
      "source": [
        "Import Library yang di butuhkan"
      ]
    },
    {
      "cell_type": "code",
      "execution_count": 41,
      "id": "c11298f2",
      "metadata": {
        "id": "c11298f2"
      },
      "outputs": [],
      "source": [
        "import pandas as pd\n",
        "import numpy as np\n",
        "from sklearn.model_selection import train_test_split\n",
        "from sklearn.preprocessing import StandardScaler #standarisasi\n",
        "from sklearn.preprocessing import MinMaxScaler #normalisasi\n",
        "from sklearn.impute import SimpleImputer\n",
        "from sklearn.preprocessing import OrdinalEncoder\n",
        "from sklearn.preprocessing import OneHotEncoder\n",
        "#visualisasi uji\n",
        "\n",
        "import matplotlib.pyplot as plt\n",
        "import seaborn as sns"
      ]
    },
    {
      "cell_type": "markdown",
      "id": "79vCA_sX2Unq",
      "metadata": {
        "id": "79vCA_sX2Unq"
      },
      "source": [
        "Read Dataset"
      ]
    },
    {
      "cell_type": "code",
      "execution_count": 42,
      "id": "268c4dce",
      "metadata": {
        "colab": {
          "base_uri": "https://localhost:8080/",
          "height": 1000
        },
        "id": "268c4dce",
        "outputId": "1c343f76-f6d4-40c9-e7f3-fbc08c42b365"
      },
      "outputs": [
        {
          "data": {
            "text/html": [
              "<div>\n",
              "<style scoped>\n",
              "    .dataframe tbody tr th:only-of-type {\n",
              "        vertical-align: middle;\n",
              "    }\n",
              "\n",
              "    .dataframe tbody tr th {\n",
              "        vertical-align: top;\n",
              "    }\n",
              "\n",
              "    .dataframe thead th {\n",
              "        text-align: right;\n",
              "    }\n",
              "</style>\n",
              "<table border=\"1\" class=\"dataframe\">\n",
              "  <thead>\n",
              "    <tr style=\"text-align: right;\">\n",
              "      <th></th>\n",
              "      <th>index</th>\n",
              "      <th>Date</th>\n",
              "      <th>Time</th>\n",
              "      <th>Location</th>\n",
              "      <th>Operator</th>\n",
              "      <th>Flight #</th>\n",
              "      <th>Route</th>\n",
              "      <th>Type</th>\n",
              "      <th>Registration</th>\n",
              "      <th>cn/In</th>\n",
              "      <th>Aboard</th>\n",
              "      <th>Fatalities</th>\n",
              "      <th>Ground</th>\n",
              "      <th>Summary</th>\n",
              "    </tr>\n",
              "  </thead>\n",
              "  <tbody>\n",
              "    <tr>\n",
              "      <th>0</th>\n",
              "      <td>0</td>\n",
              "      <td>09/17/1908</td>\n",
              "      <td>17:18</td>\n",
              "      <td>Fort Myer, Virginia</td>\n",
              "      <td>Military - U.S. Army</td>\n",
              "      <td>NaN</td>\n",
              "      <td>Demonstration</td>\n",
              "      <td>Wright Flyer III</td>\n",
              "      <td>NaN</td>\n",
              "      <td>1</td>\n",
              "      <td>2.0</td>\n",
              "      <td>1.0</td>\n",
              "      <td>0.0</td>\n",
              "      <td>During a demonstration flight, a U.S. Army fly...</td>\n",
              "    </tr>\n",
              "    <tr>\n",
              "      <th>1</th>\n",
              "      <td>1</td>\n",
              "      <td>07/12/1912</td>\n",
              "      <td>06:30</td>\n",
              "      <td>AtlantiCity, New Jersey</td>\n",
              "      <td>Military - U.S. Navy</td>\n",
              "      <td>NaN</td>\n",
              "      <td>Test flight</td>\n",
              "      <td>Dirigible</td>\n",
              "      <td>NaN</td>\n",
              "      <td>NaN</td>\n",
              "      <td>5.0</td>\n",
              "      <td>5.0</td>\n",
              "      <td>0.0</td>\n",
              "      <td>First U.S. dirigible Akron exploded just offsh...</td>\n",
              "    </tr>\n",
              "    <tr>\n",
              "      <th>2</th>\n",
              "      <td>2</td>\n",
              "      <td>08/06/1913</td>\n",
              "      <td>NaN</td>\n",
              "      <td>Victoria, British Columbia, Canada</td>\n",
              "      <td>Private</td>\n",
              "      <td>-</td>\n",
              "      <td>NaN</td>\n",
              "      <td>Curtiss seaplane</td>\n",
              "      <td>NaN</td>\n",
              "      <td>NaN</td>\n",
              "      <td>1.0</td>\n",
              "      <td>1.0</td>\n",
              "      <td>0.0</td>\n",
              "      <td>The first fatal airplane accident in Canada oc...</td>\n",
              "    </tr>\n",
              "    <tr>\n",
              "      <th>3</th>\n",
              "      <td>3</td>\n",
              "      <td>09/09/1913</td>\n",
              "      <td>18:30</td>\n",
              "      <td>Over the North Sea</td>\n",
              "      <td>Military - German Navy</td>\n",
              "      <td>NaN</td>\n",
              "      <td>NaN</td>\n",
              "      <td>Zeppelin L-1 (airship)</td>\n",
              "      <td>NaN</td>\n",
              "      <td>NaN</td>\n",
              "      <td>20.0</td>\n",
              "      <td>14.0</td>\n",
              "      <td>0.0</td>\n",
              "      <td>The airship flew into a thunderstorm and encou...</td>\n",
              "    </tr>\n",
              "    <tr>\n",
              "      <th>4</th>\n",
              "      <td>4</td>\n",
              "      <td>10/17/1913</td>\n",
              "      <td>10:30</td>\n",
              "      <td>Near Johannisthal, Germany</td>\n",
              "      <td>Military - German Navy</td>\n",
              "      <td>NaN</td>\n",
              "      <td>NaN</td>\n",
              "      <td>Zeppelin L-2 (airship)</td>\n",
              "      <td>NaN</td>\n",
              "      <td>NaN</td>\n",
              "      <td>30.0</td>\n",
              "      <td>30.0</td>\n",
              "      <td>0.0</td>\n",
              "      <td>Hydrogen gas which was being vented was sucked...</td>\n",
              "    </tr>\n",
              "    <tr>\n",
              "      <th>...</th>\n",
              "      <td>...</td>\n",
              "      <td>...</td>\n",
              "      <td>...</td>\n",
              "      <td>...</td>\n",
              "      <td>...</td>\n",
              "      <td>...</td>\n",
              "      <td>...</td>\n",
              "      <td>...</td>\n",
              "      <td>...</td>\n",
              "      <td>...</td>\n",
              "      <td>...</td>\n",
              "      <td>...</td>\n",
              "      <td>...</td>\n",
              "      <td>...</td>\n",
              "    </tr>\n",
              "    <tr>\n",
              "      <th>5263</th>\n",
              "      <td>5263</td>\n",
              "      <td>05/20/2009</td>\n",
              "      <td>06:30</td>\n",
              "      <td>Near Madiun, Indonesia</td>\n",
              "      <td>Military - Indonesian Air Force</td>\n",
              "      <td>NaN</td>\n",
              "      <td>Jakarta - Maduin</td>\n",
              "      <td>Lockheed C-130 Hercules</td>\n",
              "      <td>A-1325</td>\n",
              "      <td>1982</td>\n",
              "      <td>112.0</td>\n",
              "      <td>98.0</td>\n",
              "      <td>2.0</td>\n",
              "      <td>While on approach, the military transport cras...</td>\n",
              "    </tr>\n",
              "    <tr>\n",
              "      <th>5264</th>\n",
              "      <td>5264</td>\n",
              "      <td>05/26/2009</td>\n",
              "      <td>NaN</td>\n",
              "      <td>Near Isiro, DemocratiRepubliCongo</td>\n",
              "      <td>Service Air</td>\n",
              "      <td>NaN</td>\n",
              "      <td>Goma - Isiro</td>\n",
              "      <td>Antonov An-26</td>\n",
              "      <td>9Q-CSA</td>\n",
              "      <td>5005</td>\n",
              "      <td>4.0</td>\n",
              "      <td>4.0</td>\n",
              "      <td>NaN</td>\n",
              "      <td>The cargo plane crashed while on approach to I...</td>\n",
              "    </tr>\n",
              "    <tr>\n",
              "      <th>5265</th>\n",
              "      <td>5265</td>\n",
              "      <td>06/01/2009</td>\n",
              "      <td>00:15</td>\n",
              "      <td>AtlantiOcean, 570 miles northeast of Natal, Br...</td>\n",
              "      <td>Air France</td>\n",
              "      <td>447</td>\n",
              "      <td>Rio de Janeiro - Paris</td>\n",
              "      <td>Airbus A330-203</td>\n",
              "      <td>F-GZCP</td>\n",
              "      <td>660</td>\n",
              "      <td>228.0</td>\n",
              "      <td>228.0</td>\n",
              "      <td>0.0</td>\n",
              "      <td>The Airbus went missing over the AtlantiOcean ...</td>\n",
              "    </tr>\n",
              "    <tr>\n",
              "      <th>5266</th>\n",
              "      <td>5266</td>\n",
              "      <td>06/07/2009</td>\n",
              "      <td>08:30</td>\n",
              "      <td>Near Port Hope Simpson, Newfoundland, Canada</td>\n",
              "      <td>Strait Air</td>\n",
              "      <td>NaN</td>\n",
              "      <td>Lourdes de BlanSablon - Port Hope Simpson</td>\n",
              "      <td>Britten-Norman BN-2A-27 Islander</td>\n",
              "      <td>C-FJJR</td>\n",
              "      <td>424</td>\n",
              "      <td>1.0</td>\n",
              "      <td>1.0</td>\n",
              "      <td>0.0</td>\n",
              "      <td>The air ambulance crashed into hills while att...</td>\n",
              "    </tr>\n",
              "    <tr>\n",
              "      <th>5267</th>\n",
              "      <td>5267</td>\n",
              "      <td>06/08/2009</td>\n",
              "      <td>NaN</td>\n",
              "      <td>State of Arunachal Pradesh, India</td>\n",
              "      <td>Military - Indian Air Force</td>\n",
              "      <td>NaN</td>\n",
              "      <td>Mechuka for Jorhat</td>\n",
              "      <td>Antonov An-32</td>\n",
              "      <td>NaN</td>\n",
              "      <td>NaN</td>\n",
              "      <td>13.0</td>\n",
              "      <td>13.0</td>\n",
              "      <td>0.0</td>\n",
              "      <td>The military transport went missing while en r...</td>\n",
              "    </tr>\n",
              "  </tbody>\n",
              "</table>\n",
              "<p>5268 rows × 14 columns</p>\n",
              "</div>"
            ],
            "text/plain": [
              "      index        Date   Time  \\\n",
              "0         0  09/17/1908  17:18   \n",
              "1         1  07/12/1912  06:30   \n",
              "2         2  08/06/1913    NaN   \n",
              "3         3  09/09/1913  18:30   \n",
              "4         4  10/17/1913  10:30   \n",
              "...     ...         ...    ...   \n",
              "5263   5263  05/20/2009  06:30   \n",
              "5264   5264  05/26/2009    NaN   \n",
              "5265   5265  06/01/2009  00:15   \n",
              "5266   5266  06/07/2009  08:30   \n",
              "5267   5267  06/08/2009    NaN   \n",
              "\n",
              "                                               Location  \\\n",
              "0                                   Fort Myer, Virginia   \n",
              "1                               AtlantiCity, New Jersey   \n",
              "2                    Victoria, British Columbia, Canada   \n",
              "3                                    Over the North Sea   \n",
              "4                            Near Johannisthal, Germany   \n",
              "...                                                 ...   \n",
              "5263                             Near Madiun, Indonesia   \n",
              "5264                  Near Isiro, DemocratiRepubliCongo   \n",
              "5265  AtlantiOcean, 570 miles northeast of Natal, Br...   \n",
              "5266       Near Port Hope Simpson, Newfoundland, Canada   \n",
              "5267                  State of Arunachal Pradesh, India   \n",
              "\n",
              "                             Operator Flight #  \\\n",
              "0                Military - U.S. Army      NaN   \n",
              "1                Military - U.S. Navy      NaN   \n",
              "2                             Private        -   \n",
              "3              Military - German Navy      NaN   \n",
              "4              Military - German Navy      NaN   \n",
              "...                               ...      ...   \n",
              "5263  Military - Indonesian Air Force      NaN   \n",
              "5264                      Service Air      NaN   \n",
              "5265                       Air France      447   \n",
              "5266                       Strait Air      NaN   \n",
              "5267      Military - Indian Air Force      NaN   \n",
              "\n",
              "                                          Route  \\\n",
              "0                                 Demonstration   \n",
              "1                                   Test flight   \n",
              "2                                           NaN   \n",
              "3                                           NaN   \n",
              "4                                           NaN   \n",
              "...                                         ...   \n",
              "5263                           Jakarta - Maduin   \n",
              "5264                               Goma - Isiro   \n",
              "5265                     Rio de Janeiro - Paris   \n",
              "5266  Lourdes de BlanSablon - Port Hope Simpson   \n",
              "5267                         Mechuka for Jorhat   \n",
              "\n",
              "                                  Type Registration cn/In  Aboard  Fatalities  \\\n",
              "0                     Wright Flyer III          NaN     1     2.0         1.0   \n",
              "1                            Dirigible          NaN   NaN     5.0         5.0   \n",
              "2                     Curtiss seaplane          NaN   NaN     1.0         1.0   \n",
              "3               Zeppelin L-1 (airship)          NaN   NaN    20.0        14.0   \n",
              "4               Zeppelin L-2 (airship)          NaN   NaN    30.0        30.0   \n",
              "...                                ...          ...   ...     ...         ...   \n",
              "5263           Lockheed C-130 Hercules       A-1325  1982   112.0        98.0   \n",
              "5264                     Antonov An-26       9Q-CSA  5005     4.0         4.0   \n",
              "5265                   Airbus A330-203       F-GZCP   660   228.0       228.0   \n",
              "5266  Britten-Norman BN-2A-27 Islander      C-FJJR    424     1.0         1.0   \n",
              "5267                     Antonov An-32          NaN   NaN    13.0        13.0   \n",
              "\n",
              "      Ground                                            Summary  \n",
              "0        0.0  During a demonstration flight, a U.S. Army fly...  \n",
              "1        0.0  First U.S. dirigible Akron exploded just offsh...  \n",
              "2        0.0  The first fatal airplane accident in Canada oc...  \n",
              "3        0.0  The airship flew into a thunderstorm and encou...  \n",
              "4        0.0  Hydrogen gas which was being vented was sucked...  \n",
              "...      ...                                                ...  \n",
              "5263     2.0  While on approach, the military transport cras...  \n",
              "5264     NaN  The cargo plane crashed while on approach to I...  \n",
              "5265     0.0  The Airbus went missing over the AtlantiOcean ...  \n",
              "5266     0.0  The air ambulance crashed into hills while att...  \n",
              "5267     0.0  The military transport went missing while en r...  \n",
              "\n",
              "[5268 rows x 14 columns]"
            ]
          },
          "execution_count": 42,
          "metadata": {},
          "output_type": "execute_result"
        }
      ],
      "source": [
        "data = pd.read_csv(\"Airplane_Crashes_and_Fatalities_Since_1908.csv\")\n",
        "data"
      ]
    },
    {
      "cell_type": "markdown",
      "id": "PzIMujW82Xaf",
      "metadata": {
        "id": "PzIMujW82Xaf"
      },
      "source": [
        "Info Dataset"
      ]
    },
    {
      "cell_type": "code",
      "execution_count": 43,
      "id": "NMFcBAQAKLgu",
      "metadata": {
        "colab": {
          "base_uri": "https://localhost:8080/"
        },
        "id": "NMFcBAQAKLgu",
        "outputId": "ab23f967-a223-4e4f-dfb7-613bded02735"
      },
      "outputs": [
        {
          "name": "stdout",
          "output_type": "stream",
          "text": [
            "<class 'pandas.core.frame.DataFrame'>\n",
            "RangeIndex: 5268 entries, 0 to 5267\n",
            "Data columns (total 14 columns):\n",
            " #   Column        Non-Null Count  Dtype  \n",
            "---  ------        --------------  -----  \n",
            " 0   index         5268 non-null   int64  \n",
            " 1   Date          5268 non-null   object \n",
            " 2   Time          3049 non-null   object \n",
            " 3   Location      5248 non-null   object \n",
            " 4   Operator      5250 non-null   object \n",
            " 5   Flight #      1069 non-null   object \n",
            " 6   Route         3562 non-null   object \n",
            " 7   Type          5241 non-null   object \n",
            " 8   Registration  4933 non-null   object \n",
            " 9   cn/In         4040 non-null   object \n",
            " 10  Aboard        5246 non-null   float64\n",
            " 11  Fatalities    5256 non-null   float64\n",
            " 12  Ground        5246 non-null   float64\n",
            " 13  Summary       4878 non-null   object \n",
            "dtypes: float64(3), int64(1), object(10)\n",
            "memory usage: 576.3+ KB\n"
          ]
        }
      ],
      "source": [
        "data.info()    "
      ]
    },
    {
      "cell_type": "markdown",
      "id": "w3xU9-XZ2azN",
      "metadata": {
        "id": "w3xU9-XZ2azN"
      },
      "source": [
        "Mengecek Missing Value"
      ]
    },
    {
      "cell_type": "code",
      "execution_count": 44,
      "id": "BmKEObBqKOGs",
      "metadata": {
        "colab": {
          "base_uri": "https://localhost:8080/",
          "height": 300
        },
        "id": "BmKEObBqKOGs",
        "outputId": "bac501bc-0b15-42ae-a301-8d58f5e54e2d"
      },
      "outputs": [
        {
          "data": {
            "text/html": [
              "<div>\n",
              "<style scoped>\n",
              "    .dataframe tbody tr th:only-of-type {\n",
              "        vertical-align: middle;\n",
              "    }\n",
              "\n",
              "    .dataframe tbody tr th {\n",
              "        vertical-align: top;\n",
              "    }\n",
              "\n",
              "    .dataframe thead th {\n",
              "        text-align: right;\n",
              "    }\n",
              "</style>\n",
              "<table border=\"1\" class=\"dataframe\">\n",
              "  <thead>\n",
              "    <tr style=\"text-align: right;\">\n",
              "      <th></th>\n",
              "      <th>index</th>\n",
              "      <th>Aboard</th>\n",
              "      <th>Fatalities</th>\n",
              "      <th>Ground</th>\n",
              "    </tr>\n",
              "  </thead>\n",
              "  <tbody>\n",
              "    <tr>\n",
              "      <th>count</th>\n",
              "      <td>5268.00000</td>\n",
              "      <td>5246.000000</td>\n",
              "      <td>5256.000000</td>\n",
              "      <td>5246.000000</td>\n",
              "    </tr>\n",
              "    <tr>\n",
              "      <th>mean</th>\n",
              "      <td>2633.50000</td>\n",
              "      <td>27.554518</td>\n",
              "      <td>20.068303</td>\n",
              "      <td>1.608845</td>\n",
              "    </tr>\n",
              "    <tr>\n",
              "      <th>std</th>\n",
              "      <td>1520.88494</td>\n",
              "      <td>43.076711</td>\n",
              "      <td>33.199952</td>\n",
              "      <td>53.987827</td>\n",
              "    </tr>\n",
              "    <tr>\n",
              "      <th>min</th>\n",
              "      <td>0.00000</td>\n",
              "      <td>0.000000</td>\n",
              "      <td>0.000000</td>\n",
              "      <td>0.000000</td>\n",
              "    </tr>\n",
              "    <tr>\n",
              "      <th>25%</th>\n",
              "      <td>1316.75000</td>\n",
              "      <td>5.000000</td>\n",
              "      <td>3.000000</td>\n",
              "      <td>0.000000</td>\n",
              "    </tr>\n",
              "    <tr>\n",
              "      <th>50%</th>\n",
              "      <td>2633.50000</td>\n",
              "      <td>13.000000</td>\n",
              "      <td>9.000000</td>\n",
              "      <td>0.000000</td>\n",
              "    </tr>\n",
              "    <tr>\n",
              "      <th>75%</th>\n",
              "      <td>3950.25000</td>\n",
              "      <td>30.000000</td>\n",
              "      <td>23.000000</td>\n",
              "      <td>0.000000</td>\n",
              "    </tr>\n",
              "    <tr>\n",
              "      <th>max</th>\n",
              "      <td>5267.00000</td>\n",
              "      <td>644.000000</td>\n",
              "      <td>583.000000</td>\n",
              "      <td>2750.000000</td>\n",
              "    </tr>\n",
              "  </tbody>\n",
              "</table>\n",
              "</div>"
            ],
            "text/plain": [
              "            index       Aboard   Fatalities       Ground\n",
              "count  5268.00000  5246.000000  5256.000000  5246.000000\n",
              "mean   2633.50000    27.554518    20.068303     1.608845\n",
              "std    1520.88494    43.076711    33.199952    53.987827\n",
              "min       0.00000     0.000000     0.000000     0.000000\n",
              "25%    1316.75000     5.000000     3.000000     0.000000\n",
              "50%    2633.50000    13.000000     9.000000     0.000000\n",
              "75%    3950.25000    30.000000    23.000000     0.000000\n",
              "max    5267.00000   644.000000   583.000000  2750.000000"
            ]
          },
          "execution_count": 44,
          "metadata": {},
          "output_type": "execute_result"
        }
      ],
      "source": [
        "data.describe()"
      ]
    },
    {
      "cell_type": "markdown",
      "id": "1mQmqMx_2hiu",
      "metadata": {
        "id": "1mQmqMx_2hiu"
      },
      "source": [
        "Melihan Panjang Dataset"
      ]
    },
    {
      "cell_type": "code",
      "execution_count": 45,
      "id": "584e87e6",
      "metadata": {
        "colab": {
          "base_uri": "https://localhost:8080/"
        },
        "id": "584e87e6",
        "outputId": "f3186d60-d62f-4eb4-8f38-c62a4289b2e1"
      },
      "outputs": [
        {
          "name": "stdout",
          "output_type": "stream",
          "text": [
            "panjang dataset 5268 baris\n"
          ]
        }
      ],
      "source": [
        "print(f\"panjang dataset {len(data)} baris\")"
      ]
    },
    {
      "cell_type": "markdown",
      "id": "IqkOjjLo2lMw",
      "metadata": {
        "id": "IqkOjjLo2lMw"
      },
      "source": [
        "Membagi data menjadi Data latih dan Test"
      ]
    },
    {
      "cell_type": "code",
      "execution_count": 46,
      "id": "krC5VrLNW9l8",
      "metadata": {
        "id": "krC5VrLNW9l8"
      },
      "outputs": [],
      "source": [
        "data_X = data[[\"index\", \"Aboard\", \"Fatalities\", \"Ground\"]].values\n",
        "label_Y = data[[\"Date\",\"Time\", \"Location\", \"Operator\", \"Flight #\", \"Route\", \"Type\", \"Registration\", \"cn/In\",\"Summary\"]].values"
      ]
    },
    {
      "cell_type": "code",
      "execution_count": 47,
      "id": "2dTRIwFxYXsq",
      "metadata": {
        "id": "2dTRIwFxYXsq"
      },
      "outputs": [],
      "source": [
        "x_train, x_test, y_train, y_test = train_test_split(data_X, label_Y, test_size=.2)"
      ]
    },
    {
      "cell_type": "code",
      "execution_count": 48,
      "id": "JYHM1PTvYeMz",
      "metadata": {
        "colab": {
          "base_uri": "https://localhost:8080/"
        },
        "id": "JYHM1PTvYeMz",
        "outputId": "3d90943e-bc86-4840-c2b5-497b6f4e639e"
      },
      "outputs": [
        {
          "name": "stdout",
          "output_type": "stream",
          "text": [
            "the length of data train is 4214 row\n",
            "the length of label train is 4214 row\n",
            "the length of data test is 1054 row\n",
            "the length of label test is 1054 row\n",
            "the length of total dataset is 5268 row\n"
          ]
        }
      ],
      "source": [
        "print(f'the length of data train is {len(x_train)} row',\n",
        "      f'the length of label train is {len(y_train)} row',\n",
        "      f'the length of data test is {len(x_test)} row',\n",
        "      f'the length of label test is {len(y_test)} row',\n",
        "      f'the length of total dataset is {len(data)} row',\n",
        "      sep='\\n')"
      ]
    },
    {
      "cell_type": "markdown",
      "id": "U9PA2dlY2rGu",
      "metadata": {
        "id": "U9PA2dlY2rGu"
      },
      "source": [
        "Copy dataset dan disimpan ke dalam Variabel Dataset_transformasi"
      ]
    },
    {
      "cell_type": "code",
      "execution_count": 49,
      "id": "K2p7CVUKeuhk",
      "metadata": {
        "id": "K2p7CVUKeuhk"
      },
      "outputs": [],
      "source": [
        "dataset_transformasi = data.copy()"
      ]
    },
    {
      "cell_type": "markdown",
      "id": "kxs865Vw2zBb",
      "metadata": {
        "id": "kxs865Vw2zBb"
      },
      "source": [
        "Normalisai"
      ]
    },
    {
      "cell_type": "code",
      "execution_count": 50,
      "id": "JkPTojb9etY6",
      "metadata": {
        "colab": {
          "base_uri": "https://localhost:8080/",
          "height": 424
        },
        "id": "JkPTojb9etY6",
        "outputId": "8a515ffe-3c76-4a97-9c90-fb24db87efca"
      },
      "outputs": [
        {
          "data": {
            "text/html": [
              "<div>\n",
              "<style scoped>\n",
              "    .dataframe tbody tr th:only-of-type {\n",
              "        vertical-align: middle;\n",
              "    }\n",
              "\n",
              "    .dataframe tbody tr th {\n",
              "        vertical-align: top;\n",
              "    }\n",
              "\n",
              "    .dataframe thead th {\n",
              "        text-align: right;\n",
              "    }\n",
              "</style>\n",
              "<table border=\"1\" class=\"dataframe\">\n",
              "  <thead>\n",
              "    <tr style=\"text-align: right;\">\n",
              "      <th></th>\n",
              "      <th>ABB</th>\n",
              "    </tr>\n",
              "  </thead>\n",
              "  <tbody>\n",
              "    <tr>\n",
              "      <th>0</th>\n",
              "      <td>0.003106</td>\n",
              "    </tr>\n",
              "    <tr>\n",
              "      <th>1</th>\n",
              "      <td>0.007764</td>\n",
              "    </tr>\n",
              "    <tr>\n",
              "      <th>2</th>\n",
              "      <td>0.001553</td>\n",
              "    </tr>\n",
              "    <tr>\n",
              "      <th>3</th>\n",
              "      <td>0.031056</td>\n",
              "    </tr>\n",
              "    <tr>\n",
              "      <th>4</th>\n",
              "      <td>0.046584</td>\n",
              "    </tr>\n",
              "    <tr>\n",
              "      <th>...</th>\n",
              "      <td>...</td>\n",
              "    </tr>\n",
              "    <tr>\n",
              "      <th>5263</th>\n",
              "      <td>0.173913</td>\n",
              "    </tr>\n",
              "    <tr>\n",
              "      <th>5264</th>\n",
              "      <td>0.006211</td>\n",
              "    </tr>\n",
              "    <tr>\n",
              "      <th>5265</th>\n",
              "      <td>0.354037</td>\n",
              "    </tr>\n",
              "    <tr>\n",
              "      <th>5266</th>\n",
              "      <td>0.001553</td>\n",
              "    </tr>\n",
              "    <tr>\n",
              "      <th>5267</th>\n",
              "      <td>0.020186</td>\n",
              "    </tr>\n",
              "  </tbody>\n",
              "</table>\n",
              "<p>5268 rows × 1 columns</p>\n",
              "</div>"
            ],
            "text/plain": [
              "           ABB\n",
              "0     0.003106\n",
              "1     0.007764\n",
              "2     0.001553\n",
              "3     0.031056\n",
              "4     0.046584\n",
              "...        ...\n",
              "5263  0.173913\n",
              "5264  0.006211\n",
              "5265  0.354037\n",
              "5266  0.001553\n",
              "5267  0.020186\n",
              "\n",
              "[5268 rows x 1 columns]"
            ]
          },
          "execution_count": 50,
          "metadata": {},
          "output_type": "execute_result"
        }
      ],
      "source": [
        "scaler = MinMaxScaler()\n",
        "normalize_dataset = scaler.fit_transform(dataset_transformasi[[\"Aboard\"]])\n",
        "normalize_dataset = pd.DataFrame(normalize_dataset)\n",
        "normalize_dataset.rename(columns= {0:\"ABB\"}, inplace=True)\n",
        "normalize_dataset"
      ]
    },
    {
      "cell_type": "markdown",
      "id": "oyB3Co3Y24rq",
      "metadata": {
        "id": "oyB3Co3Y24rq"
      },
      "source": [
        "Menghapus Kolom Dataset yang bertype object karena hanya menggunakan kolom yang bertype data Float atau Numerik,dan di simpan ke dalam variabel data_baru"
      ]
    },
    {
      "cell_type": "code",
      "execution_count": 51,
      "id": "vHYC_S_otuBO",
      "metadata": {
        "id": "vHYC_S_otuBO"
      },
      "outputs": [],
      "source": [
        "data_baru = data.drop([\"Date\",\"Time\", \"Location\", \"Operator\", \"Flight #\", \"Route\", \"Type\", \"Registration\", \"cn/In\",\"Summary\"],axis =1)"
      ]
    },
    {
      "cell_type": "code",
      "execution_count": 52,
      "id": "RI5IFHDxt_WW",
      "metadata": {
        "colab": {
          "base_uri": "https://localhost:8080/",
          "height": 424
        },
        "id": "RI5IFHDxt_WW",
        "outputId": "263dee55-326d-45ae-d7a9-087196fe6f28"
      },
      "outputs": [
        {
          "data": {
            "text/html": [
              "<div>\n",
              "<style scoped>\n",
              "    .dataframe tbody tr th:only-of-type {\n",
              "        vertical-align: middle;\n",
              "    }\n",
              "\n",
              "    .dataframe tbody tr th {\n",
              "        vertical-align: top;\n",
              "    }\n",
              "\n",
              "    .dataframe thead th {\n",
              "        text-align: right;\n",
              "    }\n",
              "</style>\n",
              "<table border=\"1\" class=\"dataframe\">\n",
              "  <thead>\n",
              "    <tr style=\"text-align: right;\">\n",
              "      <th></th>\n",
              "      <th>index</th>\n",
              "      <th>Aboard</th>\n",
              "      <th>Fatalities</th>\n",
              "      <th>Ground</th>\n",
              "    </tr>\n",
              "  </thead>\n",
              "  <tbody>\n",
              "    <tr>\n",
              "      <th>0</th>\n",
              "      <td>0</td>\n",
              "      <td>2.0</td>\n",
              "      <td>1.0</td>\n",
              "      <td>0.0</td>\n",
              "    </tr>\n",
              "    <tr>\n",
              "      <th>1</th>\n",
              "      <td>1</td>\n",
              "      <td>5.0</td>\n",
              "      <td>5.0</td>\n",
              "      <td>0.0</td>\n",
              "    </tr>\n",
              "    <tr>\n",
              "      <th>2</th>\n",
              "      <td>2</td>\n",
              "      <td>1.0</td>\n",
              "      <td>1.0</td>\n",
              "      <td>0.0</td>\n",
              "    </tr>\n",
              "    <tr>\n",
              "      <th>3</th>\n",
              "      <td>3</td>\n",
              "      <td>20.0</td>\n",
              "      <td>14.0</td>\n",
              "      <td>0.0</td>\n",
              "    </tr>\n",
              "    <tr>\n",
              "      <th>4</th>\n",
              "      <td>4</td>\n",
              "      <td>30.0</td>\n",
              "      <td>30.0</td>\n",
              "      <td>0.0</td>\n",
              "    </tr>\n",
              "    <tr>\n",
              "      <th>...</th>\n",
              "      <td>...</td>\n",
              "      <td>...</td>\n",
              "      <td>...</td>\n",
              "      <td>...</td>\n",
              "    </tr>\n",
              "    <tr>\n",
              "      <th>5263</th>\n",
              "      <td>5263</td>\n",
              "      <td>112.0</td>\n",
              "      <td>98.0</td>\n",
              "      <td>2.0</td>\n",
              "    </tr>\n",
              "    <tr>\n",
              "      <th>5264</th>\n",
              "      <td>5264</td>\n",
              "      <td>4.0</td>\n",
              "      <td>4.0</td>\n",
              "      <td>NaN</td>\n",
              "    </tr>\n",
              "    <tr>\n",
              "      <th>5265</th>\n",
              "      <td>5265</td>\n",
              "      <td>228.0</td>\n",
              "      <td>228.0</td>\n",
              "      <td>0.0</td>\n",
              "    </tr>\n",
              "    <tr>\n",
              "      <th>5266</th>\n",
              "      <td>5266</td>\n",
              "      <td>1.0</td>\n",
              "      <td>1.0</td>\n",
              "      <td>0.0</td>\n",
              "    </tr>\n",
              "    <tr>\n",
              "      <th>5267</th>\n",
              "      <td>5267</td>\n",
              "      <td>13.0</td>\n",
              "      <td>13.0</td>\n",
              "      <td>0.0</td>\n",
              "    </tr>\n",
              "  </tbody>\n",
              "</table>\n",
              "<p>5268 rows × 4 columns</p>\n",
              "</div>"
            ],
            "text/plain": [
              "      index  Aboard  Fatalities  Ground\n",
              "0         0     2.0         1.0     0.0\n",
              "1         1     5.0         5.0     0.0\n",
              "2         2     1.0         1.0     0.0\n",
              "3         3    20.0        14.0     0.0\n",
              "4         4    30.0        30.0     0.0\n",
              "...     ...     ...         ...     ...\n",
              "5263   5263   112.0        98.0     2.0\n",
              "5264   5264     4.0         4.0     NaN\n",
              "5265   5265   228.0       228.0     0.0\n",
              "5266   5266     1.0         1.0     0.0\n",
              "5267   5267    13.0        13.0     0.0\n",
              "\n",
              "[5268 rows x 4 columns]"
            ]
          },
          "execution_count": 52,
          "metadata": {},
          "output_type": "execute_result"
        }
      ],
      "source": [
        "data_baru"
      ]
    },
    {
      "cell_type": "markdown",
      "id": "KB3StMFC3Wie",
      "metadata": {
        "id": "KB3StMFC3Wie"
      },
      "source": [
        "Standarisasi"
      ]
    },
    {
      "cell_type": "code",
      "execution_count": 53,
      "id": "ghCzw9ieeYLw",
      "metadata": {
        "id": "ghCzw9ieeYLw"
      },
      "outputs": [],
      "source": [
        "data_baru.drop(\"Aboard\", axis=1, inplace=True)\n",
        "# buat alat\n",
        "standard_std = StandardScaler()"
      ]
    },
    {
      "cell_type": "code",
      "execution_count": 54,
      "id": "41srV3ErkbP8",
      "metadata": {
        "id": "41srV3ErkbP8"
      },
      "outputs": [],
      "source": [
        "# standarisasikan\n",
        "scaled_dataset = standard_std.fit_transform(data_baru)"
      ]
    },
    {
      "cell_type": "markdown",
      "id": "1e6FQBbE3pjW",
      "metadata": {
        "id": "1e6FQBbE3pjW"
      },
      "source": [
        "Data Scaling"
      ]
    },
    {
      "cell_type": "code",
      "execution_count": 55,
      "id": "03AaRBceu1ew",
      "metadata": {
        "colab": {
          "base_uri": "https://localhost:8080/",
          "height": 441
        },
        "id": "03AaRBceu1ew",
        "outputId": "6f399515-0281-4466-c001-c16007223c72"
      },
      "outputs": [
        {
          "name": "stdout",
          "output_type": "stream",
          "text": [
            "Data Sebelum Scaling :\n"
          ]
        },
        {
          "data": {
            "text/html": [
              "<div>\n",
              "<style scoped>\n",
              "    .dataframe tbody tr th:only-of-type {\n",
              "        vertical-align: middle;\n",
              "    }\n",
              "\n",
              "    .dataframe tbody tr th {\n",
              "        vertical-align: top;\n",
              "    }\n",
              "\n",
              "    .dataframe thead th {\n",
              "        text-align: right;\n",
              "    }\n",
              "</style>\n",
              "<table border=\"1\" class=\"dataframe\">\n",
              "  <thead>\n",
              "    <tr style=\"text-align: right;\">\n",
              "      <th></th>\n",
              "      <th>index</th>\n",
              "      <th>Fatalities</th>\n",
              "      <th>Ground</th>\n",
              "    </tr>\n",
              "  </thead>\n",
              "  <tbody>\n",
              "    <tr>\n",
              "      <th>0</th>\n",
              "      <td>0</td>\n",
              "      <td>1.0</td>\n",
              "      <td>0.0</td>\n",
              "    </tr>\n",
              "    <tr>\n",
              "      <th>1</th>\n",
              "      <td>1</td>\n",
              "      <td>5.0</td>\n",
              "      <td>0.0</td>\n",
              "    </tr>\n",
              "    <tr>\n",
              "      <th>2</th>\n",
              "      <td>2</td>\n",
              "      <td>1.0</td>\n",
              "      <td>0.0</td>\n",
              "    </tr>\n",
              "    <tr>\n",
              "      <th>3</th>\n",
              "      <td>3</td>\n",
              "      <td>14.0</td>\n",
              "      <td>0.0</td>\n",
              "    </tr>\n",
              "    <tr>\n",
              "      <th>4</th>\n",
              "      <td>4</td>\n",
              "      <td>30.0</td>\n",
              "      <td>0.0</td>\n",
              "    </tr>\n",
              "    <tr>\n",
              "      <th>...</th>\n",
              "      <td>...</td>\n",
              "      <td>...</td>\n",
              "      <td>...</td>\n",
              "    </tr>\n",
              "    <tr>\n",
              "      <th>5263</th>\n",
              "      <td>5263</td>\n",
              "      <td>98.0</td>\n",
              "      <td>2.0</td>\n",
              "    </tr>\n",
              "    <tr>\n",
              "      <th>5264</th>\n",
              "      <td>5264</td>\n",
              "      <td>4.0</td>\n",
              "      <td>NaN</td>\n",
              "    </tr>\n",
              "    <tr>\n",
              "      <th>5265</th>\n",
              "      <td>5265</td>\n",
              "      <td>228.0</td>\n",
              "      <td>0.0</td>\n",
              "    </tr>\n",
              "    <tr>\n",
              "      <th>5266</th>\n",
              "      <td>5266</td>\n",
              "      <td>1.0</td>\n",
              "      <td>0.0</td>\n",
              "    </tr>\n",
              "    <tr>\n",
              "      <th>5267</th>\n",
              "      <td>5267</td>\n",
              "      <td>13.0</td>\n",
              "      <td>0.0</td>\n",
              "    </tr>\n",
              "  </tbody>\n",
              "</table>\n",
              "<p>5268 rows × 3 columns</p>\n",
              "</div>"
            ],
            "text/plain": [
              "      index  Fatalities  Ground\n",
              "0         0         1.0     0.0\n",
              "1         1         5.0     0.0\n",
              "2         2         1.0     0.0\n",
              "3         3        14.0     0.0\n",
              "4         4        30.0     0.0\n",
              "...     ...         ...     ...\n",
              "5263   5263        98.0     2.0\n",
              "5264   5264         4.0     NaN\n",
              "5265   5265       228.0     0.0\n",
              "5266   5266         1.0     0.0\n",
              "5267   5267        13.0     0.0\n",
              "\n",
              "[5268 rows x 3 columns]"
            ]
          },
          "execution_count": 55,
          "metadata": {},
          "output_type": "execute_result"
        }
      ],
      "source": [
        "print(\"Data Sebelum Scaling :\")\n",
        "data_baru"
      ]
    },
    {
      "cell_type": "code",
      "execution_count": 56,
      "id": "fgJRtbolu_tA",
      "metadata": {
        "colab": {
          "base_uri": "https://localhost:8080/"
        },
        "id": "fgJRtbolu_tA",
        "outputId": "8d410fe5-b32f-4f81-ef27-a95804876603"
      },
      "outputs": [
        {
          "name": "stdout",
          "output_type": "stream",
          "text": [
            "DataSetelah Scaling :\n"
          ]
        },
        {
          "data": {
            "text/plain": [
              "array([[-1.73172205, -0.57440195, -0.02980298],\n",
              "       [-1.73106448, -0.45390838, -0.02980298],\n",
              "       [-1.7304069 , -0.57440195, -0.02980298],\n",
              "       ...,\n",
              "       [ 1.7304069 ,  6.26360785, -0.02980298],\n",
              "       [ 1.73106448, -0.57440195, -0.02980298],\n",
              "       [ 1.73172205, -0.21292125, -0.02980298]])"
            ]
          },
          "execution_count": 56,
          "metadata": {},
          "output_type": "execute_result"
        }
      ],
      "source": [
        "print(\"DataSetelah Scaling :\")\n",
        "scaled_dataset"
      ]
    },
    {
      "cell_type": "code",
      "execution_count": 57,
      "id": "d7725647",
      "metadata": {
        "colab": {
          "base_uri": "https://localhost:8080/",
          "height": 424
        },
        "id": "d7725647",
        "outputId": "8eba1723-dc4c-4320-8730-b8094c6e005d"
      },
      "outputs": [
        {
          "data": {
            "text/html": [
              "<div>\n",
              "<style scoped>\n",
              "    .dataframe tbody tr th:only-of-type {\n",
              "        vertical-align: middle;\n",
              "    }\n",
              "\n",
              "    .dataframe tbody tr th {\n",
              "        vertical-align: top;\n",
              "    }\n",
              "\n",
              "    .dataframe thead th {\n",
              "        text-align: right;\n",
              "    }\n",
              "</style>\n",
              "<table border=\"1\" class=\"dataframe\">\n",
              "  <thead>\n",
              "    <tr style=\"text-align: right;\">\n",
              "      <th></th>\n",
              "      <th>index</th>\n",
              "      <th>Date</th>\n",
              "      <th>Time</th>\n",
              "      <th>Location</th>\n",
              "      <th>Operator</th>\n",
              "      <th>Flight #</th>\n",
              "      <th>Route</th>\n",
              "      <th>Type</th>\n",
              "      <th>Registration</th>\n",
              "      <th>cn/In</th>\n",
              "      <th>Aboard</th>\n",
              "      <th>Fatalities</th>\n",
              "      <th>Ground</th>\n",
              "      <th>Summary</th>\n",
              "    </tr>\n",
              "  </thead>\n",
              "  <tbody>\n",
              "    <tr>\n",
              "      <th>0</th>\n",
              "      <td>False</td>\n",
              "      <td>False</td>\n",
              "      <td>False</td>\n",
              "      <td>False</td>\n",
              "      <td>False</td>\n",
              "      <td>True</td>\n",
              "      <td>False</td>\n",
              "      <td>False</td>\n",
              "      <td>True</td>\n",
              "      <td>False</td>\n",
              "      <td>False</td>\n",
              "      <td>False</td>\n",
              "      <td>False</td>\n",
              "      <td>False</td>\n",
              "    </tr>\n",
              "    <tr>\n",
              "      <th>1</th>\n",
              "      <td>False</td>\n",
              "      <td>False</td>\n",
              "      <td>False</td>\n",
              "      <td>False</td>\n",
              "      <td>False</td>\n",
              "      <td>True</td>\n",
              "      <td>False</td>\n",
              "      <td>False</td>\n",
              "      <td>True</td>\n",
              "      <td>True</td>\n",
              "      <td>False</td>\n",
              "      <td>False</td>\n",
              "      <td>False</td>\n",
              "      <td>False</td>\n",
              "    </tr>\n",
              "    <tr>\n",
              "      <th>2</th>\n",
              "      <td>False</td>\n",
              "      <td>False</td>\n",
              "      <td>True</td>\n",
              "      <td>False</td>\n",
              "      <td>False</td>\n",
              "      <td>False</td>\n",
              "      <td>True</td>\n",
              "      <td>False</td>\n",
              "      <td>True</td>\n",
              "      <td>True</td>\n",
              "      <td>False</td>\n",
              "      <td>False</td>\n",
              "      <td>False</td>\n",
              "      <td>False</td>\n",
              "    </tr>\n",
              "    <tr>\n",
              "      <th>3</th>\n",
              "      <td>False</td>\n",
              "      <td>False</td>\n",
              "      <td>False</td>\n",
              "      <td>False</td>\n",
              "      <td>False</td>\n",
              "      <td>True</td>\n",
              "      <td>True</td>\n",
              "      <td>False</td>\n",
              "      <td>True</td>\n",
              "      <td>True</td>\n",
              "      <td>False</td>\n",
              "      <td>False</td>\n",
              "      <td>False</td>\n",
              "      <td>False</td>\n",
              "    </tr>\n",
              "    <tr>\n",
              "      <th>4</th>\n",
              "      <td>False</td>\n",
              "      <td>False</td>\n",
              "      <td>False</td>\n",
              "      <td>False</td>\n",
              "      <td>False</td>\n",
              "      <td>True</td>\n",
              "      <td>True</td>\n",
              "      <td>False</td>\n",
              "      <td>True</td>\n",
              "      <td>True</td>\n",
              "      <td>False</td>\n",
              "      <td>False</td>\n",
              "      <td>False</td>\n",
              "      <td>False</td>\n",
              "    </tr>\n",
              "    <tr>\n",
              "      <th>...</th>\n",
              "      <td>...</td>\n",
              "      <td>...</td>\n",
              "      <td>...</td>\n",
              "      <td>...</td>\n",
              "      <td>...</td>\n",
              "      <td>...</td>\n",
              "      <td>...</td>\n",
              "      <td>...</td>\n",
              "      <td>...</td>\n",
              "      <td>...</td>\n",
              "      <td>...</td>\n",
              "      <td>...</td>\n",
              "      <td>...</td>\n",
              "      <td>...</td>\n",
              "    </tr>\n",
              "    <tr>\n",
              "      <th>5263</th>\n",
              "      <td>False</td>\n",
              "      <td>False</td>\n",
              "      <td>False</td>\n",
              "      <td>False</td>\n",
              "      <td>False</td>\n",
              "      <td>True</td>\n",
              "      <td>False</td>\n",
              "      <td>False</td>\n",
              "      <td>False</td>\n",
              "      <td>False</td>\n",
              "      <td>False</td>\n",
              "      <td>False</td>\n",
              "      <td>False</td>\n",
              "      <td>False</td>\n",
              "    </tr>\n",
              "    <tr>\n",
              "      <th>5264</th>\n",
              "      <td>False</td>\n",
              "      <td>False</td>\n",
              "      <td>True</td>\n",
              "      <td>False</td>\n",
              "      <td>False</td>\n",
              "      <td>True</td>\n",
              "      <td>False</td>\n",
              "      <td>False</td>\n",
              "      <td>False</td>\n",
              "      <td>False</td>\n",
              "      <td>False</td>\n",
              "      <td>False</td>\n",
              "      <td>True</td>\n",
              "      <td>False</td>\n",
              "    </tr>\n",
              "    <tr>\n",
              "      <th>5265</th>\n",
              "      <td>False</td>\n",
              "      <td>False</td>\n",
              "      <td>False</td>\n",
              "      <td>False</td>\n",
              "      <td>False</td>\n",
              "      <td>False</td>\n",
              "      <td>False</td>\n",
              "      <td>False</td>\n",
              "      <td>False</td>\n",
              "      <td>False</td>\n",
              "      <td>False</td>\n",
              "      <td>False</td>\n",
              "      <td>False</td>\n",
              "      <td>False</td>\n",
              "    </tr>\n",
              "    <tr>\n",
              "      <th>5266</th>\n",
              "      <td>False</td>\n",
              "      <td>False</td>\n",
              "      <td>False</td>\n",
              "      <td>False</td>\n",
              "      <td>False</td>\n",
              "      <td>True</td>\n",
              "      <td>False</td>\n",
              "      <td>False</td>\n",
              "      <td>False</td>\n",
              "      <td>False</td>\n",
              "      <td>False</td>\n",
              "      <td>False</td>\n",
              "      <td>False</td>\n",
              "      <td>False</td>\n",
              "    </tr>\n",
              "    <tr>\n",
              "      <th>5267</th>\n",
              "      <td>False</td>\n",
              "      <td>False</td>\n",
              "      <td>True</td>\n",
              "      <td>False</td>\n",
              "      <td>False</td>\n",
              "      <td>True</td>\n",
              "      <td>False</td>\n",
              "      <td>False</td>\n",
              "      <td>True</td>\n",
              "      <td>True</td>\n",
              "      <td>False</td>\n",
              "      <td>False</td>\n",
              "      <td>False</td>\n",
              "      <td>False</td>\n",
              "    </tr>\n",
              "  </tbody>\n",
              "</table>\n",
              "<p>5268 rows × 14 columns</p>\n",
              "</div>"
            ],
            "text/plain": [
              "      index   Date   Time  Location  Operator  Flight #  Route   Type  \\\n",
              "0     False  False  False     False     False      True  False  False   \n",
              "1     False  False  False     False     False      True  False  False   \n",
              "2     False  False   True     False     False     False   True  False   \n",
              "3     False  False  False     False     False      True   True  False   \n",
              "4     False  False  False     False     False      True   True  False   \n",
              "...     ...    ...    ...       ...       ...       ...    ...    ...   \n",
              "5263  False  False  False     False     False      True  False  False   \n",
              "5264  False  False   True     False     False      True  False  False   \n",
              "5265  False  False  False     False     False     False  False  False   \n",
              "5266  False  False  False     False     False      True  False  False   \n",
              "5267  False  False   True     False     False      True  False  False   \n",
              "\n",
              "      Registration  cn/In  Aboard  Fatalities  Ground  Summary  \n",
              "0             True  False   False       False   False    False  \n",
              "1             True   True   False       False   False    False  \n",
              "2             True   True   False       False   False    False  \n",
              "3             True   True   False       False   False    False  \n",
              "4             True   True   False       False   False    False  \n",
              "...            ...    ...     ...         ...     ...      ...  \n",
              "5263         False  False   False       False   False    False  \n",
              "5264         False  False   False       False    True    False  \n",
              "5265         False  False   False       False   False    False  \n",
              "5266         False  False   False       False   False    False  \n",
              "5267          True   True   False       False   False    False  \n",
              "\n",
              "[5268 rows x 14 columns]"
            ]
          },
          "execution_count": 57,
          "metadata": {},
          "output_type": "execute_result"
        }
      ],
      "source": [
        "data.isna()"
      ]
    },
    {
      "cell_type": "code",
      "execution_count": 58,
      "id": "87fbc13a",
      "metadata": {
        "id": "87fbc13a"
      },
      "outputs": [],
      "source": [
        "df = data_baru.copy()"
      ]
    },
    {
      "cell_type": "markdown",
      "id": "FDyqgF_u3hV4",
      "metadata": {
        "id": "FDyqgF_u3hV4"
      },
      "source": [
        "Hapus dataset Yang bernilai Null"
      ]
    },
    {
      "cell_type": "code",
      "execution_count": 59,
      "id": "c979ba63",
      "metadata": {
        "colab": {
          "base_uri": "https://localhost:8080/"
        },
        "id": "c979ba63",
        "outputId": "c32de909-e9f3-46dc-a023-795e48f9c480"
      },
      "outputs": [
        {
          "data": {
            "text/plain": [
              "index          0\n",
              "Fatalities    12\n",
              "Ground        22\n",
              "dtype: int64"
            ]
          },
          "execution_count": 59,
          "metadata": {},
          "output_type": "execute_result"
        }
      ],
      "source": [
        "df.isna().sum()"
      ]
    },
    {
      "cell_type": "code",
      "execution_count": 60,
      "id": "f00500b8",
      "metadata": {
        "id": "f00500b8"
      },
      "outputs": [],
      "source": [
        "# bikin alat\n",
        "imputer_mean = SimpleImputer(strategy=\"mean\")\n",
        "imputer_median = SimpleImputer(strategy=\"median\")\n",
        "imputer_modus = SimpleImputer(strategy=\"most_frequent\")"
      ]
    },
    {
      "cell_type": "code",
      "execution_count": 61,
      "id": "564505cb",
      "metadata": {
        "id": "564505cb"
      },
      "outputs": [],
      "source": [
        "# modus\n",
        "data_baru[\"Fatalities\"] = imputer_modus.fit_transform(data_baru[[\"Fatalities\"]])"
      ]
    },
    {
      "cell_type": "code",
      "execution_count": 62,
      "id": "0730fc2b",
      "metadata": {
        "colab": {
          "base_uri": "https://localhost:8080/"
        },
        "id": "0730fc2b",
        "outputId": "c3f94e2f-c132-4af7-a3d1-6e8b3113e845"
      },
      "outputs": [
        {
          "data": {
            "text/plain": [
              "index          0\n",
              "Fatalities     0\n",
              "Ground        22\n",
              "dtype: int64"
            ]
          },
          "execution_count": 62,
          "metadata": {},
          "output_type": "execute_result"
        }
      ],
      "source": [
        "data_baru.isna().sum()"
      ]
    },
    {
      "cell_type": "code",
      "execution_count": 63,
      "id": "7c2774ed",
      "metadata": {
        "colab": {
          "base_uri": "https://localhost:8080/"
        },
        "id": "7c2774ed",
        "outputId": "9b396c8d-e081-4ab5-84fc-4a556de3df26"
      },
      "outputs": [
        {
          "data": {
            "text/plain": [
              "index         0\n",
              "Fatalities    0\n",
              "Ground        0\n",
              "dtype: int64"
            ]
          },
          "execution_count": 63,
          "metadata": {},
          "output_type": "execute_result"
        }
      ],
      "source": [
        "#mean\n",
        "data_baru[\"Ground\"] = imputer_mean.fit_transform(data_baru[[\"Ground\"]])\n",
        "data_baru.isna().sum()"
      ]
    },
    {
      "cell_type": "code",
      "execution_count": 64,
      "id": "3bb6917a",
      "metadata": {
        "colab": {
          "base_uri": "https://localhost:8080/"
        },
        "id": "3bb6917a",
        "outputId": "9175b5bf-d385-412b-fbfe-d8cd2a382fda"
      },
      "outputs": [
        {
          "data": {
            "text/plain": [
              "index         0\n",
              "Fatalities    0\n",
              "Ground        0\n",
              "dtype: int64"
            ]
          },
          "execution_count": 64,
          "metadata": {},
          "output_type": "execute_result"
        }
      ],
      "source": [
        "data_baru.dropna(inplace=True)\n",
        "\n",
        "data_baru.isna().sum()"
      ]
    },
    {
      "cell_type": "code",
      "execution_count": 65,
      "id": "42a28157",
      "metadata": {
        "id": "42a28157"
      },
      "outputs": [],
      "source": [
        "dataset_duplicate = data_baru.copy()"
      ]
    },
    {
      "cell_type": "code",
      "execution_count": 66,
      "id": "f_xr1VrezH0I",
      "metadata": {
        "colab": {
          "base_uri": "https://localhost:8080/"
        },
        "id": "f_xr1VrezH0I",
        "outputId": "0e76b7e4-c2ee-4203-ff4a-4cf1d9a2d6f3"
      },
      "outputs": [
        {
          "data": {
            "text/plain": [
              "0"
            ]
          },
          "execution_count": 66,
          "metadata": {},
          "output_type": "execute_result"
        }
      ],
      "source": [
        "dataset_duplicate.duplicated().sum()"
      ]
    },
    {
      "cell_type": "code",
      "execution_count": 67,
      "id": "fa52dc45",
      "metadata": {
        "colab": {
          "base_uri": "https://localhost:8080/"
        },
        "id": "fa52dc45",
        "outputId": "524e4027-56b4-4625-d6e9-734d4db24b1f"
      },
      "outputs": [
        {
          "data": {
            "text/plain": [
              "index           int64\n",
              "Fatalities    float64\n",
              "Ground        float64\n",
              "dtype: object"
            ]
          },
          "execution_count": 67,
          "metadata": {},
          "output_type": "execute_result"
        }
      ],
      "source": [
        "dataset_duplicate.dtypes"
      ]
    },
    {
      "cell_type": "code",
      "execution_count": 68,
      "id": "ec6b7c15",
      "metadata": {
        "id": "ec6b7c15"
      },
      "outputs": [],
      "source": [
        "df = dataset_duplicate[\"Fatalities\"].astype(\"int32\").dtypes"
      ]
    },
    {
      "cell_type": "code",
      "execution_count": 69,
      "id": "f527f318",
      "metadata": {
        "id": "f527f318"
      },
      "outputs": [],
      "source": [
        "df = dataset_duplicate[\"Fatalities\"].astype(\"int32\").head()"
      ]
    },
    {
      "cell_type": "code",
      "execution_count": 70,
      "id": "7cf1da49",
      "metadata": {
        "colab": {
          "base_uri": "https://localhost:8080/"
        },
        "id": "7cf1da49",
        "outputId": "9c727874-d471-456b-f3a8-4bd7bc3bb821"
      },
      "outputs": [
        {
          "data": {
            "text/plain": [
              "0     1\n",
              "1     5\n",
              "2     1\n",
              "3    14\n",
              "4    30\n",
              "Name: Fatalities, dtype: int32"
            ]
          },
          "execution_count": 70,
          "metadata": {},
          "output_type": "execute_result"
        }
      ],
      "source": [
        "df"
      ]
    },
    {
      "cell_type": "code",
      "execution_count": 71,
      "id": "6edb3019",
      "metadata": {
        "colab": {
          "base_uri": "https://localhost:8080/",
          "height": 206
        },
        "id": "6edb3019",
        "outputId": "42d44587-1ff5-4eea-b384-4653de9f4d35"
      },
      "outputs": [
        {
          "data": {
            "text/html": [
              "<div>\n",
              "<style scoped>\n",
              "    .dataframe tbody tr th:only-of-type {\n",
              "        vertical-align: middle;\n",
              "    }\n",
              "\n",
              "    .dataframe tbody tr th {\n",
              "        vertical-align: top;\n",
              "    }\n",
              "\n",
              "    .dataframe thead th {\n",
              "        text-align: right;\n",
              "    }\n",
              "</style>\n",
              "<table border=\"1\" class=\"dataframe\">\n",
              "  <thead>\n",
              "    <tr style=\"text-align: right;\">\n",
              "      <th></th>\n",
              "      <th>index</th>\n",
              "      <th>Fatalities</th>\n",
              "      <th>Ground</th>\n",
              "    </tr>\n",
              "  </thead>\n",
              "  <tbody>\n",
              "    <tr>\n",
              "      <th>0</th>\n",
              "      <td>0</td>\n",
              "      <td>1.0</td>\n",
              "      <td>0.0</td>\n",
              "    </tr>\n",
              "    <tr>\n",
              "      <th>1</th>\n",
              "      <td>1</td>\n",
              "      <td>5.0</td>\n",
              "      <td>0.0</td>\n",
              "    </tr>\n",
              "    <tr>\n",
              "      <th>2</th>\n",
              "      <td>2</td>\n",
              "      <td>1.0</td>\n",
              "      <td>0.0</td>\n",
              "    </tr>\n",
              "    <tr>\n",
              "      <th>3</th>\n",
              "      <td>3</td>\n",
              "      <td>14.0</td>\n",
              "      <td>0.0</td>\n",
              "    </tr>\n",
              "    <tr>\n",
              "      <th>4</th>\n",
              "      <td>4</td>\n",
              "      <td>30.0</td>\n",
              "      <td>0.0</td>\n",
              "    </tr>\n",
              "  </tbody>\n",
              "</table>\n",
              "</div>"
            ],
            "text/plain": [
              "   index  Fatalities  Ground\n",
              "0      0         1.0     0.0\n",
              "1      1         5.0     0.0\n",
              "2      2         1.0     0.0\n",
              "3      3        14.0     0.0\n",
              "4      4        30.0     0.0"
            ]
          },
          "execution_count": 71,
          "metadata": {},
          "output_type": "execute_result"
        }
      ],
      "source": [
        "dataset_duplicate.head(5)"
      ]
    },
    {
      "cell_type": "code",
      "execution_count": 72,
      "id": "e507bcf8",
      "metadata": {
        "colab": {
          "base_uri": "https://localhost:8080/"
        },
        "id": "e507bcf8",
        "outputId": "0b3d3dab-7140-4f4d-f793-cb9883782b14"
      },
      "outputs": [
        {
          "data": {
            "text/plain": [
              "array([  1.,   5.,  14.,  30.,  21.,  19.,  20.,  22.,  27.,  23.,  24.,\n",
              "        18.,   2.,   4.,   3.,  46.,  34.,   7.,  17.,   6.,  52.,   8.,\n",
              "         0.,  10.,   9.,  16.,  48.,  15.,  73.,  12.,  11.,  50.,  13.,\n",
              "        35.,  25.,  29.,  26.,  40.,  31.,  28.,  59.,  45.,  44.,  39.,\n",
              "        32.,  87.,  38.,  53.,  43.,  41.,  37.,  33.,  55.,  80.,  58.,\n",
              "        36.,  56.,  70., 129.,  42.,  47.,  66.,  74., 128.,  62.,  67.,\n",
              "        79.,  61.,  49.,  99.,  64.,  51.,  65.,  60.,  68.,  63.,  54.,\n",
              "        78.,  72.,  83.,  77.,  95., 111., 107., 130., 112.,  81.,  84.,\n",
              "        94.,  86.,  97., 101., 118.,  85.,  57., 119., 117., 133., 124.,\n",
              "        98.,  82., 126.,  88., 123., 155., 120., 100.,  90.,  92., 102.,\n",
              "       109.,  75.,  93., 163.,  69.,  91., 104., 115., 122., 156., 174.,\n",
              "       103., 176., 110., 108.,  89., 106.,  96., 346., 191., 113., 188.,\n",
              "        76., 154., 583., 131., 213., 137., 183., 271., 178., 257., 146.,\n",
              "       166., 301., 180., 132., 145., 269., 181., 240., 148., 329., 200.,\n",
              "       134., 520., 256., 167., 159., 143., 290., 259., 144., 171., 127.,\n",
              "       223., 261., 158., 141., 157., 116., 264., 160., 189., 230., 349.,\n",
              "       229., 234., 196., 217., 169., 114., 260., 225.,  71., 121., 275.,\n",
              "       140., 170., 187., 228.])"
            ]
          },
          "execution_count": 72,
          "metadata": {},
          "output_type": "execute_result"
        }
      ],
      "source": [
        "dataset_duplicate[\"Fatalities\"].unique()"
      ]
    },
    {
      "cell_type": "markdown",
      "id": "VxLxtWKR3yDH",
      "metadata": {
        "id": "VxLxtWKR3yDH"
      },
      "source": [
        "One Hot Encoding"
      ]
    },
    {
      "cell_type": "code",
      "execution_count": 73,
      "id": "9d9da363",
      "metadata": {
        "id": "9d9da363"
      },
      "outputs": [],
      "source": [
        "encoder_ordinal = OrdinalEncoder()\n",
        "dataset_duplicate[\"Fatalities\"] = encoder_ordinal"
      ]
    },
    {
      "cell_type": "code",
      "execution_count": 74,
      "id": "f4eb9f96",
      "metadata": {
        "colab": {
          "base_uri": "https://localhost:8080/",
          "height": 424
        },
        "id": "f4eb9f96",
        "outputId": "bd36e77b-7413-415f-e57b-33874760ec76"
      },
      "outputs": [
        {
          "data": {
            "text/html": [
              "<div>\n",
              "<style scoped>\n",
              "    .dataframe tbody tr th:only-of-type {\n",
              "        vertical-align: middle;\n",
              "    }\n",
              "\n",
              "    .dataframe tbody tr th {\n",
              "        vertical-align: top;\n",
              "    }\n",
              "\n",
              "    .dataframe thead th {\n",
              "        text-align: right;\n",
              "    }\n",
              "</style>\n",
              "<table border=\"1\" class=\"dataframe\">\n",
              "  <thead>\n",
              "    <tr style=\"text-align: right;\">\n",
              "      <th></th>\n",
              "      <th>index</th>\n",
              "      <th>Ground</th>\n",
              "      <th>Fatalities_OrdinalEncoder()</th>\n",
              "    </tr>\n",
              "  </thead>\n",
              "  <tbody>\n",
              "    <tr>\n",
              "      <th>0</th>\n",
              "      <td>0</td>\n",
              "      <td>0.000000</td>\n",
              "      <td>1</td>\n",
              "    </tr>\n",
              "    <tr>\n",
              "      <th>1</th>\n",
              "      <td>1</td>\n",
              "      <td>0.000000</td>\n",
              "      <td>1</td>\n",
              "    </tr>\n",
              "    <tr>\n",
              "      <th>2</th>\n",
              "      <td>2</td>\n",
              "      <td>0.000000</td>\n",
              "      <td>1</td>\n",
              "    </tr>\n",
              "    <tr>\n",
              "      <th>3</th>\n",
              "      <td>3</td>\n",
              "      <td>0.000000</td>\n",
              "      <td>1</td>\n",
              "    </tr>\n",
              "    <tr>\n",
              "      <th>4</th>\n",
              "      <td>4</td>\n",
              "      <td>0.000000</td>\n",
              "      <td>1</td>\n",
              "    </tr>\n",
              "    <tr>\n",
              "      <th>...</th>\n",
              "      <td>...</td>\n",
              "      <td>...</td>\n",
              "      <td>...</td>\n",
              "    </tr>\n",
              "    <tr>\n",
              "      <th>5263</th>\n",
              "      <td>5263</td>\n",
              "      <td>2.000000</td>\n",
              "      <td>1</td>\n",
              "    </tr>\n",
              "    <tr>\n",
              "      <th>5264</th>\n",
              "      <td>5264</td>\n",
              "      <td>1.608845</td>\n",
              "      <td>1</td>\n",
              "    </tr>\n",
              "    <tr>\n",
              "      <th>5265</th>\n",
              "      <td>5265</td>\n",
              "      <td>0.000000</td>\n",
              "      <td>1</td>\n",
              "    </tr>\n",
              "    <tr>\n",
              "      <th>5266</th>\n",
              "      <td>5266</td>\n",
              "      <td>0.000000</td>\n",
              "      <td>1</td>\n",
              "    </tr>\n",
              "    <tr>\n",
              "      <th>5267</th>\n",
              "      <td>5267</td>\n",
              "      <td>0.000000</td>\n",
              "      <td>1</td>\n",
              "    </tr>\n",
              "  </tbody>\n",
              "</table>\n",
              "<p>5268 rows × 3 columns</p>\n",
              "</div>"
            ],
            "text/plain": [
              "      index    Ground  Fatalities_OrdinalEncoder()\n",
              "0         0  0.000000                            1\n",
              "1         1  0.000000                            1\n",
              "2         2  0.000000                            1\n",
              "3         3  0.000000                            1\n",
              "4         4  0.000000                            1\n",
              "...     ...       ...                          ...\n",
              "5263   5263  2.000000                            1\n",
              "5264   5264  1.608845                            1\n",
              "5265   5265  0.000000                            1\n",
              "5266   5266  0.000000                            1\n",
              "5267   5267  0.000000                            1\n",
              "\n",
              "[5268 rows x 3 columns]"
            ]
          },
          "execution_count": 74,
          "metadata": {},
          "output_type": "execute_result"
        }
      ],
      "source": [
        "temp_dataset = pd.get_dummies(dataset_duplicate[[\"Fatalities\"]])\n",
        "\n",
        "temp_dataset = pd.DataFrame(temp_dataset)\n",
        "\n",
        "dataset_duplicate.drop(\"Fatalities\", axis=1, inplace=True)\n",
        "\n",
        "dataset_one_hot = dataset_duplicate.join(temp_dataset)\n",
        "\n",
        "dataset_one_hot"
      ]
    },
    {
      "cell_type": "markdown",
      "id": "ceyUxg6cJ04j",
      "metadata": {
        "id": "ceyUxg6cJ04j"
      },
      "source": [
        "# Postest5"
      ]
    },
    {
      "cell_type": "markdown",
      "id": "2bRLIYP0FYQk",
      "metadata": {
        "id": "2bRLIYP0FYQk"
      },
      "source": [
        "# Algoritma KNN dan Naive Bayes"
      ]
    },
    {
      "cell_type": "code",
      "execution_count": 75,
      "id": "ocmCXXaaBLHF",
      "metadata": {
        "id": "ocmCXXaaBLHF"
      },
      "outputs": [],
      "source": [
        "from sklearn.model_selection import train_test_split\n",
        " \n",
        "X = dataset_one_hot.drop([\"Fatalities_OrdinalEncoder()\"],axis =1)\n",
        "y = dataset_one_hot[\"Fatalities_OrdinalEncoder()\"]\n",
        "X_train, X_test, y_train, y_test = train_test_split(X, y, test_size = 0.1, random_state = 123)"
      ]
    },
    {
      "cell_type": "code",
      "execution_count": 76,
      "id": "fDTzWrNnBmyA",
      "metadata": {
        "colab": {
          "base_uri": "https://localhost:8080/"
        },
        "id": "fDTzWrNnBmyA",
        "outputId": "a5736447-6653-4718-db58-7c2ae9df1283"
      },
      "outputs": [
        {
          "name": "stdout",
          "output_type": "stream",
          "text": [
            "Total # Sampel dataset: 5268\n",
            "Total # Sampel train dataset: 4741\n",
            "Total # Sampel test dataset: 527\n"
          ]
        }
      ],
      "source": [
        "print(f'Total # Sampel dataset: {len(X)}')\n",
        "print(f'Total # Sampel train dataset: {len(X_train)}')\n",
        "print(f'Total # Sampel test dataset: {len(X_test)}')"
      ]
    },
    {
      "cell_type": "code",
      "execution_count": 77,
      "id": "CREkd0EgCB_y",
      "metadata": {
        "colab": {
          "base_uri": "https://localhost:8080/",
          "height": 300
        },
        "id": "CREkd0EgCB_y",
        "outputId": "a149ec04-d65b-4431-f9f5-5086dd314914"
      },
      "outputs": [
        {
          "data": {
            "text/html": [
              "<div>\n",
              "<style scoped>\n",
              "    .dataframe tbody tr th:only-of-type {\n",
              "        vertical-align: middle;\n",
              "    }\n",
              "\n",
              "    .dataframe tbody tr th {\n",
              "        vertical-align: top;\n",
              "    }\n",
              "\n",
              "    .dataframe thead th {\n",
              "        text-align: right;\n",
              "    }\n",
              "</style>\n",
              "<table border=\"1\" class=\"dataframe\">\n",
              "  <thead>\n",
              "    <tr style=\"text-align: right;\">\n",
              "      <th></th>\n",
              "      <th>index</th>\n",
              "      <th>Ground</th>\n",
              "    </tr>\n",
              "  </thead>\n",
              "  <tbody>\n",
              "    <tr>\n",
              "      <th>count</th>\n",
              "      <td>4741.0</td>\n",
              "      <td>4741.0</td>\n",
              "    </tr>\n",
              "    <tr>\n",
              "      <th>mean</th>\n",
              "      <td>2630.7</td>\n",
              "      <td>1.7</td>\n",
              "    </tr>\n",
              "    <tr>\n",
              "      <th>std</th>\n",
              "      <td>1518.1</td>\n",
              "      <td>56.7</td>\n",
              "    </tr>\n",
              "    <tr>\n",
              "      <th>min</th>\n",
              "      <td>0.0</td>\n",
              "      <td>0.0</td>\n",
              "    </tr>\n",
              "    <tr>\n",
              "      <th>25%</th>\n",
              "      <td>1312.0</td>\n",
              "      <td>0.0</td>\n",
              "    </tr>\n",
              "    <tr>\n",
              "      <th>50%</th>\n",
              "      <td>2635.0</td>\n",
              "      <td>0.0</td>\n",
              "    </tr>\n",
              "    <tr>\n",
              "      <th>75%</th>\n",
              "      <td>3939.0</td>\n",
              "      <td>0.0</td>\n",
              "    </tr>\n",
              "    <tr>\n",
              "      <th>max</th>\n",
              "      <td>5267.0</td>\n",
              "      <td>2750.0</td>\n",
              "    </tr>\n",
              "  </tbody>\n",
              "</table>\n",
              "</div>"
            ],
            "text/plain": [
              "        index  Ground\n",
              "count  4741.0  4741.0\n",
              "mean   2630.7     1.7\n",
              "std    1518.1    56.7\n",
              "min       0.0     0.0\n",
              "25%    1312.0     0.0\n",
              "50%    2635.0     0.0\n",
              "75%    3939.0     0.0\n",
              "max    5267.0  2750.0"
            ]
          },
          "execution_count": 77,
          "metadata": {},
          "output_type": "execute_result"
        }
      ],
      "source": [
        "X_train.describe().round(1)"
      ]
    },
    {
      "cell_type": "code",
      "execution_count": 78,
      "id": "P9cY0sutCT3h",
      "metadata": {
        "id": "P9cY0sutCT3h"
      },
      "outputs": [],
      "source": [
        "# Siapkan dataframe untuk analisis model\n",
        "models = pd.DataFrame(index=['train_mse', 'test_mse'], \n",
        "                      columns=['KNN', 'DecisionTree', 'LinearRegresion'])"
      ]
    },
    {
      "cell_type": "markdown",
      "id": "Qjmg20SgFku7",
      "metadata": {
        "id": "Qjmg20SgFku7"
      },
      "source": [
        "# KNN"
      ]
    },
    {
      "cell_type": "code",
      "execution_count": 79,
      "id": "U1gGbvy8DDDV",
      "metadata": {
        "id": "U1gGbvy8DDDV"
      },
      "outputs": [],
      "source": [
        "import pandas as pd\n",
        "import numpy as np\n",
        "from sklearn.neighbors import KNeighborsRegressor\n",
        "from sklearn.metrics import mean_squared_error\n",
        "from sklearn.neighbors import KNeighborsClassifier\n",
        "X_train, X_test, y_train, y_test = train_test_split(X, y, random_state=0)\n",
        "knn = KNeighborsClassifier(n_neighbors = 5)\n",
        "knn.fit(X_train, y_train)\n",
        "\n",
        "models.loc['train_mse','knn'] = mean_squared_error(y_pred = knn.predict(X_train), y_true=y_train)"
      ]
    },
    {
      "cell_type": "markdown",
      "id": "sWoCnMaDEnw-",
      "metadata": {
        "id": "sWoCnMaDEnw-"
      },
      "source": [
        "# Naive Bayes"
      ]
    },
    {
      "cell_type": "code",
      "execution_count": 80,
      "id": "B2Z3ZSK6DhAg",
      "metadata": {
        "colab": {
          "base_uri": "https://localhost:8080/"
        },
        "id": "B2Z3ZSK6DhAg",
        "outputId": "49252f9b-b9b3-4130-c8dd-678a5e9b2b37"
      },
      "outputs": [
        {
          "ename": "NameError",
          "evalue": "name 'label_y' is not defined",
          "output_type": "error",
          "traceback": [
            "\u001b[1;31m---------------------------------------------------------------------------\u001b[0m",
            "\u001b[1;31mNameError\u001b[0m                                 Traceback (most recent call last)",
            "Cell \u001b[1;32mIn [80], line 3\u001b[0m\n\u001b[0;32m      1\u001b[0m \u001b[39m# store the feature matrix (X) and response vector (y)\u001b[39;00m\n\u001b[0;32m      2\u001b[0m X \u001b[39m=\u001b[39m data_X\n\u001b[1;32m----> 3\u001b[0m y \u001b[39m=\u001b[39m label_y\n\u001b[0;32m      4\u001b[0m \u001b[39m# splitting X and y into training and testing sets\u001b[39;00m\n\u001b[0;32m      5\u001b[0m \u001b[39mfrom\u001b[39;00m \u001b[39msklearn\u001b[39;00m\u001b[39m.\u001b[39;00m\u001b[39mmodel_selection\u001b[39;00m \u001b[39mimport\u001b[39;00m train_test_split\n",
            "\u001b[1;31mNameError\u001b[0m: name 'label_y' is not defined"
          ]
        }
      ],
      "source": [
        "# store the feature matrix (X) and response vector (y)\n",
        "X = data_X\n",
        "y = label_y\n",
        "# splitting X and y into training and testing sets\n",
        "from sklearn.model_selection import train_test_split\n",
        "X_train, X_test, y_train, y_test = train_test_split(X, y,\n",
        "test_size=0.4, random_state=1)\n",
        "# training the model on training set\n",
        "from sklearn.naive_bayes import GaussianNB\n",
        "gnb = GaussianNB()\n",
        "gnb.fit(X_train, y_train)\n",
        "# making predictions on the testing set\n",
        "y_pred = gnb.predict(X_test)\n",
        "\n",
        "from sklearn import metrics\n",
        "print(\"Tingkat Akurasi Mencapai :\",\n",
        "metrics.accuracy_score(y_test, y_pred)*100)"
      ]
    },
    {
      "cell_type": "markdown",
      "id": "nbmyp_6pJkQ1",
      "metadata": {
        "id": "nbmyp_6pJkQ1"
      },
      "source": [
        "# Evaluasi Model"
      ]
    },
    {
      "cell_type": "markdown",
      "id": "EvEW1cfRJqkb",
      "metadata": {
        "id": "EvEW1cfRJqkb"
      },
      "source": [
        "## Clasification"
      ]
    },
    {
      "cell_type": "code",
      "execution_count": null,
      "id": "EXVEkkD5G8R5",
      "metadata": {
        "colab": {
          "base_uri": "https://localhost:8080/"
        },
        "id": "EXVEkkD5G8R5",
        "outputId": "31623579-642a-477e-e9ff-670eaa61a244"
      },
      "outputs": [
        {
          "name": "stdout",
          "output_type": "stream",
          "text": [
            "              precision    recall  f1-score   support\n",
            "\n",
            "           0       0.27      1.00      0.42         4\n",
            "           1       0.00      0.00      0.00         5\n",
            "           2       0.00      0.00      0.00         6\n",
            "\n",
            "    accuracy                           0.27        15\n",
            "   macro avg       0.09      0.33      0.14        15\n",
            "weighted avg       0.07      0.27      0.11        15\n",
            "\n"
          ]
        },
        {
          "name": "stderr",
          "output_type": "stream",
          "text": [
            "/usr/local/lib/python3.7/dist-packages/sklearn/metrics/_classification.py:1318: UndefinedMetricWarning: Precision and F-score are ill-defined and being set to 0.0 in labels with no predicted samples. Use `zero_division` parameter to control this behavior.\n",
            "  _warn_prf(average, modifier, msg_start, len(result))\n",
            "/usr/local/lib/python3.7/dist-packages/sklearn/metrics/_classification.py:1318: UndefinedMetricWarning: Precision and F-score are ill-defined and being set to 0.0 in labels with no predicted samples. Use `zero_division` parameter to control this behavior.\n",
            "  _warn_prf(average, modifier, msg_start, len(result))\n",
            "/usr/local/lib/python3.7/dist-packages/sklearn/metrics/_classification.py:1318: UndefinedMetricWarning: Precision and F-score are ill-defined and being set to 0.0 in labels with no predicted samples. Use `zero_division` parameter to control this behavior.\n",
            "  _warn_prf(average, modifier, msg_start, len(result))\n"
          ]
        }
      ],
      "source": [
        "import numpy as np\n",
        "from sklearn.feature_extraction.text import CountVectorizer\n",
        "from sklearn.model_selection import train_test_split\n",
        "from sklearn.naive_bayes import MultinomialNB\n",
        "x = X_train\n",
        "y = label_y\n",
        "# Data Splitting\n",
        "X_train, X_test, y_train, y_test = train_test_split(X, y,\n",
        "test_size=0.1, random_state=123)\n",
        "# Classification menggunakan Multinomial Naive Bayes\n",
        "clf = MultinomialNB()\n",
        "clf.fit(X_train,y_train)\n",
        "predictions = clf.predict(X_test)\n",
        "# Classification Report\n",
        "from sklearn.metrics import classification_report\n",
        "print(classification_report(y_test, predictions))"
      ]
    },
    {
      "cell_type": "code",
      "execution_count": null,
      "id": "v1zo1VLeIIvY",
      "metadata": {
        "colab": {
          "base_uri": "https://localhost:8080/",
          "height": 521
        },
        "id": "v1zo1VLeIIvY",
        "outputId": "529c68d9-8efc-416c-b317-93f2da33e556"
      },
      "outputs": [
        {
          "data": {
            "text/plain": [
              "Text(0.5, 1.0, 'Correlation Matrix untuk Classification ')"
            ]
          },
          "execution_count": 130,
          "metadata": {},
          "output_type": "execute_result"
        },
        {
          "data": {
            "image/png": "[encoded data removed]",
            "text/plain": [
              "<Figure size 720x576 with 2 Axes>"
            ]
          },
          "metadata": {
            "needs_background": "light"
          },
          "output_type": "display_data"
        }
      ],
      "source": [
        "plt.figure(figsize=(10, 8))\n",
        "correlation_matrix = data.corr().round(2)\n",
        " \n",
        "# Untuk menge-print nilai di dalam kotak, gunakan parameter anot=True\n",
        "sns.heatmap(data=correlation_matrix, annot=True, cmap='coolwarm', linewidths=0.5, )\n",
        "plt.title(\"Correlation Matrix untuk Classification \", size=20)"
      ]
    },
    {
      "cell_type": "markdown",
      "id": "2Ws92XdOJvKz",
      "metadata": {
        "id": "2Ws92XdOJvKz"
      },
      "source": [
        "## Regresi"
      ]
    },
    {
      "cell_type": "code",
      "execution_count": null,
      "id": "_vMc2awmF3uC",
      "metadata": {
        "colab": {
          "base_uri": "https://localhost:8080/"
        },
        "id": "_vMc2awmF3uC",
        "outputId": "823a7152-2266-4639-c29b-1208b6fa6fec"
      },
      "outputs": [
        {
          "name": "stdout",
          "output_type": "stream",
          "text": [
            "R^2 :  0.9091166623808649\n",
            "RMSE: 0.25202649631963525\n"
          ]
        }
      ],
      "source": [
        "from sklearn.model_selection import train_test_split\n",
        "from sklearn.linear_model import LinearRegression\n",
        "from sklearn.metrics import mean_squared_error, r2_score\n",
        "import numpy as np\n",
        "X_train, X_test, y_train, y_test = train_test_split(X, y,\n",
        "test_size=0.20, random_state=42)\n",
        "r2_score, mean_squared_error\n",
        "model = LinearRegression()\n",
        "model.fit(X_train, y_train)\n",
        "y_pred = model.predict(X_test)\n",
        "print(\"R^2 : \", r2_score(y_test, y_pred))\n",
        "print(\"RMSE:\",np.sqrt(mean_squared_error(y_test, y_pred)))"
      ]
    }
  ],
  "metadata": {
    "colab": {
      "collapsed_sections": [],
      "provenance": []
    },
    "kernelspec": {
      "display_name": "Python 3.10.8 64-bit",
      "language": "python",
      "name": "python3"
    },
    "language_info": {
      "codemirror_mode": {
        "name": "ipython",
        "version": 3
      },
      "file_extension": ".py",
      "mimetype": "text/x-python",
      "name": "python",
      "nbconvert_exporter": "python",
      "pygments_lexer": "ipython3",
      "version": "3.10.8"
    },
    "vscode": {
      "interpreter": {
        "hash": "ba418e2f91c1f936b4e48057ae33d152e6bcf761dbc2a343e3e90a39704503b5"
      }
    }
  },
  "nbformat": 4,
  "nbformat_minor": 5
}
